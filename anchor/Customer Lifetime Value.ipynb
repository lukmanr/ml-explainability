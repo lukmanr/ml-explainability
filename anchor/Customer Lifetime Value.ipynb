{
 "cells": [
  {
   "cell_type": "code",
   "execution_count": 1,
   "metadata": {
    "collapsed": false
   },
   "outputs": [],
   "source": [
    "#!pip install anchor_exp==0.0.0.5"
   ]
  },
  {
   "cell_type": "code",
   "execution_count": null,
   "metadata": {
    "collapsed": false,
    "deletable": true,
    "editable": true
   },
   "outputs": [],
   "source": [
    "import anchor_explainer as anchor"
   ]
  },
  {
   "cell_type": "code",
   "execution_count": 3,
   "metadata": {
    "collapsed": false,
    "deletable": true,
    "editable": true
   },
   "outputs": [],
   "source": [
    "explainer = anchor.Explainer()"
   ]
  },
  {
   "cell_type": "code",
   "execution_count": 4,
   "metadata": {
    "collapsed": false,
    "deletable": true,
    "editable": true
   },
   "outputs": [],
   "source": [
    "explainer.load_data(\n",
    "  gcs_path = 'gs://ml-clv-data/model_data.csv',\n",
    "  target_idx = 15,\n",
    "  features_to_use = [1,3,5,6,7,8,9,10,11]\n",
    ")"
   ]
  },
  {
   "cell_type": "code",
   "execution_count": 5,
   "metadata": {
    "collapsed": true,
    "deletable": true,
    "editable": true
   },
   "outputs": [],
   "source": [
    "explainer.create_cmle_client(\n",
    "  gcp_project = 'ml-clv',\n",
    "  gcp_model = 'dnn_airflow',\n",
    "  gcp_model_version = 'v1'\n",
    ")"
   ]
  },
  {
   "cell_type": "code",
   "execution_count": 6,
   "metadata": {
    "collapsed": false,
    "deletable": true,
    "editable": true
   },
   "outputs": [
    {
     "data": {
      "text/plain": [
       "{'accuracy': 0.9}"
      ]
     },
     "execution_count": 6,
     "metadata": {},
     "output_type": "execute_result"
    }
   ],
   "source": [
    "explainer.assess_model(sample = 10)"
   ]
  },
  {
   "cell_type": "code",
   "execution_count": 8,
   "metadata": {
    "collapsed": false,
    "deletable": true,
    "editable": true
   },
   "outputs": [
    {
     "data": {
      "text/plain": [
       "{'anchor': '2423.27 < monetary_dnn <= 4087.26',\n",
       " 'coverage': 0.2546,\n",
       " 'precision': 1.0,\n",
       " 'prediction': '3606.53 < target_monetary <= 5891.80',\n",
       " 'record': ['3158.945',\n",
       "  '41',\n",
       "  '149',\n",
       "  '161',\n",
       "  '4.53',\n",
       "  '88.03',\n",
       "  '18.12',\n",
       "  '0',\n",
       "  '0']}"
      ]
     },
     "execution_count": 8,
     "metadata": {},
     "output_type": "execute_result"
    }
   ],
   "source": [
    "rand_expl = explainer.explain_random_record() #, show_in_notebook = True)\n",
    "rand_expl"
   ]
  },
  {
   "cell_type": "code",
   "execution_count": 9,
   "metadata": {
    "collapsed": false,
    "deletable": true,
    "editable": true
   },
   "outputs": [
    {
     "name": "stdout",
     "output_type": "stream",
     "text": [
      "2000,41,149,161,4.53,88.03,18.12,0,0\n"
     ]
    },
    {
     "data": {
      "text/plain": [
       "{'anchor': '1167.98 < monetary_dnn <= 2423.27 AND T <= 306.00',\n",
       " 'coverage': 0.0559,\n",
       " 'precision': 0.9875,\n",
       " 'prediction': '1922.54 < target_monetary <= 3606.53',\n",
       " 'record': ['1779.22', '41', '149', '161', '4.53', '88.03', '18.12', '0', '0']}"
      ]
     },
     "execution_count": 9,
     "metadata": {},
     "output_type": "execute_result"
    }
   ],
   "source": [
    "mod_record = ','.join(['2000'] + rand_expl['record'][1:])\n",
    "print(mod_record)\n",
    "explainer.explain_record(mod_record\n",
    ") #, show_in_notebook = True)"
   ]
  },
  {
   "cell_type": "code",
   "execution_count": 10,
   "metadata": {
    "collapsed": false,
    "deletable": true,
    "editable": true
   },
   "outputs": [
    {
     "data": {
      "text/html": [
       "<div>\n",
       "<style scoped>\n",
       "    .dataframe tbody tr th:only-of-type {\n",
       "        vertical-align: middle;\n",
       "    }\n",
       "\n",
       "    .dataframe tbody tr th {\n",
       "        vertical-align: top;\n",
       "    }\n",
       "\n",
       "    .dataframe thead th {\n",
       "        text-align: right;\n",
       "    }\n",
       "</style>\n",
       "<table border=\"1\" class=\"dataframe\">\n",
       "  <thead>\n",
       "    <tr style=\"text-align: right;\">\n",
       "      <th></th>\n",
       "      <th>anchor</th>\n",
       "      <th>coverage</th>\n",
       "      <th>precision</th>\n",
       "      <th>prediction</th>\n",
       "    </tr>\n",
       "  </thead>\n",
       "  <tbody>\n",
       "    <tr>\n",
       "      <th>0</th>\n",
       "      <td>monetary_dnn &gt; 4087.26</td>\n",
       "      <td>0.2413</td>\n",
       "      <td>1.000000</td>\n",
       "      <td>target_monetary &gt; 5891.80</td>\n",
       "    </tr>\n",
       "    <tr>\n",
       "      <th>1</th>\n",
       "      <td>2423.27 &lt; monetary_dnn &lt;= 4087.26</td>\n",
       "      <td>0.2384</td>\n",
       "      <td>1.000000</td>\n",
       "      <td>3606.53 &lt; target_monetary &lt;= 5891.80</td>\n",
       "    </tr>\n",
       "    <tr>\n",
       "      <th>2</th>\n",
       "      <td>1167.98 &lt; monetary_dnn &lt;= 2423.27 AND time_bet...</td>\n",
       "      <td>0.0113</td>\n",
       "      <td>0.962500</td>\n",
       "      <td>target_monetary &lt;= 1922.54</td>\n",
       "    </tr>\n",
       "    <tr>\n",
       "      <th>3</th>\n",
       "      <td>1167.98 &lt; monetary_dnn &lt;= 2423.27 AND time_bet...</td>\n",
       "      <td>0.0112</td>\n",
       "      <td>0.978142</td>\n",
       "      <td>1922.54 &lt; target_monetary &lt;= 3606.53</td>\n",
       "    </tr>\n",
       "  </tbody>\n",
       "</table>\n",
       "</div>"
      ],
      "text/plain": [
       "                                              anchor  coverage  precision  \\\n",
       "0                             monetary_dnn > 4087.26    0.2413   1.000000   \n",
       "1                  2423.27 < monetary_dnn <= 4087.26    0.2384   1.000000   \n",
       "2  1167.98 < monetary_dnn <= 2423.27 AND time_bet...    0.0113   0.962500   \n",
       "3  1167.98 < monetary_dnn <= 2423.27 AND time_bet...    0.0112   0.978142   \n",
       "\n",
       "                             prediction  \n",
       "0             target_monetary > 5891.80  \n",
       "1  3606.53 < target_monetary <= 5891.80  \n",
       "2            target_monetary <= 1922.54  \n",
       "3  1922.54 < target_monetary <= 3606.53  "
      ]
     },
     "execution_count": 10,
     "metadata": {},
     "output_type": "execute_result"
    }
   ],
   "source": [
    "explainer.explain_model(sample=5)"
   ]
  },
  {
   "cell_type": "code",
   "execution_count": null,
   "metadata": {
    "collapsed": true,
    "deletable": true,
    "editable": true
   },
   "outputs": [],
   "source": []
  }
 ],
 "metadata": {
  "kernelspec": {
   "display_name": "Python 2",
   "language": "python",
   "name": "python2"
  },
  "language_info": {
   "codemirror_mode": {
    "name": "ipython",
    "version": 2
   },
   "file_extension": ".py",
   "mimetype": "text/x-python",
   "name": "python",
   "nbconvert_exporter": "python",
   "pygments_lexer": "ipython2",
   "version": "2.7.15"
  }
 },
 "nbformat": 4,
 "nbformat_minor": 2
}
