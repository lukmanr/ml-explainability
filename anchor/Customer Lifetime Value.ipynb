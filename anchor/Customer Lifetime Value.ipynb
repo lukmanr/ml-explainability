{
 "cells": [
  {
   "cell_type": "code",
   "execution_count": 1,
   "metadata": {},
   "outputs": [],
   "source": [
    "#!pip install anchor_exp==0.0.0.5"
   ]
  },
  {
   "cell_type": "code",
   "execution_count": 3,
   "metadata": {},
   "outputs": [],
   "source": [
    "#!gcloud auth activate-service-account --key-file ml-clv.json"
   ]
  },
  {
   "cell_type": "code",
   "execution_count": 5,
   "metadata": {},
   "outputs": [],
   "source": [
    "import anchor_explainer as anchor"
   ]
  },
  {
   "cell_type": "code",
   "execution_count": 6,
   "metadata": {},
   "outputs": [],
   "source": [
    "explainer = anchor.Explainer()"
   ]
  },
  {
   "cell_type": "code",
   "execution_count": 7,
   "metadata": {},
   "outputs": [],
   "source": [
    "explainer.load_data(\n",
    "  gcs_path = 'gs://ml-clv-data/model_data.csv',\n",
    "  target_idx = 15,\n",
    "  features_to_use = [1,3,5,6,7,8,9,10,11])"
   ]
  },
  {
   "cell_type": "code",
   "execution_count": 8,
   "metadata": {},
   "outputs": [],
   "source": [
    "token = !gcloud auth print-access-token"
   ]
  },
  {
   "cell_type": "code",
   "execution_count": 9,
   "metadata": {},
   "outputs": [],
   "source": [
    "explainer.create_cmle_client(\n",
    "  gcp_project = 'ml-clv',\n",
    "  gcp_model = 'dnn_airflow',\n",
    "  gcp_model_version = 'v1',\n",
    "  access_token = token[0],\n",
    "  output_func = lambda x : x['predicted_monetary'])"
   ]
  },
  {
   "cell_type": "code",
   "execution_count": 13,
   "metadata": {},
   "outputs": [
    {
     "data": {
      "text/plain": [
       "{'accuracy': 0.79}"
      ]
     },
     "execution_count": 13,
     "metadata": {},
     "output_type": "execute_result"
    }
   ],
   "source": [
    "explainer.assess_model()"
   ]
  },
  {
   "cell_type": "code",
   "execution_count": 11,
   "metadata": {},
   "outputs": [
    {
     "data": {
      "text/plain": [
       "{'anchor': '2423.27 < monetary_dnn <= 4087.26',\n",
       " 'coverage': 0.2436,\n",
       " 'precision': 1.0,\n",
       " 'prediction': b'3606.53 < target_monetary <= 5891.80',\n",
       " 'record': [3158.945, 41, 333, 335, 6.62, 53.96, 18.12, 0, 0]}"
      ]
     },
     "execution_count": 11,
     "metadata": {},
     "output_type": "execute_result"
    }
   ],
   "source": [
    "rand_expl = explainer.explain_random_record() #, show_in_notebook = True)\n",
    "rand_expl"
   ]
  },
  {
   "cell_type": "code",
   "execution_count": 12,
   "metadata": {},
   "outputs": [
    {
     "name": "stdout",
     "output_type": "stream",
     "text": [
      "[2000, 41, 333, 335, 6.62, 53.96, 18.12, 0, 0]\n"
     ]
    },
    {
     "data": {
      "text/plain": [
       "{'anchor': '1167.98 < monetary_dnn <= 2423.27 AND T > 334.00 AND recency > 331.00 AND has_returned <= 0.00 AND cnt_returns <= 0.00 AND 44.28 < avg_basket_value <= 66.77 AND 5.49 < time_between <= 8.22',\n",
       " 'coverage': 0.0004,\n",
       " 'precision': 1.0,\n",
       " 'prediction': b'target_monetary <= 1922.54',\n",
       " 'record': [1779.22, 41, 333, 335, 6.62, 53.96, 18.12, 0, 0]}"
      ]
     },
     "execution_count": 12,
     "metadata": {},
     "output_type": "execute_result"
    }
   ],
   "source": [
    "mod_record = [2000] + rand_expl['record'][1:]\n",
    "print(mod_record)\n",
    "explainer.explain_record(mod_record) #, show_in_notebook = True)"
   ]
  },
  {
   "cell_type": "code",
   "execution_count": 11,
   "metadata": {},
   "outputs": [
    {
     "data": {
      "text/html": [
       "<div>\n",
       "<style scoped>\n",
       "    .dataframe tbody tr th:only-of-type {\n",
       "        vertical-align: middle;\n",
       "    }\n",
       "\n",
       "    .dataframe tbody tr th {\n",
       "        vertical-align: top;\n",
       "    }\n",
       "\n",
       "    .dataframe thead th {\n",
       "        text-align: right;\n",
       "    }\n",
       "</style>\n",
       "<table border=\"1\" class=\"dataframe\">\n",
       "  <thead>\n",
       "    <tr style=\"text-align: right;\">\n",
       "      <th></th>\n",
       "      <th>anchor</th>\n",
       "      <th>coverage</th>\n",
       "      <th>precision</th>\n",
       "      <th>prediction</th>\n",
       "    </tr>\n",
       "  </thead>\n",
       "  <tbody>\n",
       "    <tr>\n",
       "      <th>0</th>\n",
       "      <td>monetary_dnn &lt;= 1167.98</td>\n",
       "      <td>0.2568</td>\n",
       "      <td>1.000000</td>\n",
       "      <td>b'target_monetary &lt;= 1922.54'</td>\n",
       "    </tr>\n",
       "    <tr>\n",
       "      <th>1</th>\n",
       "      <td>monetary_dnn &gt; 4087.26</td>\n",
       "      <td>0.2524</td>\n",
       "      <td>1.000000</td>\n",
       "      <td>b'target_monetary &gt; 5891.80'</td>\n",
       "    </tr>\n",
       "    <tr>\n",
       "      <th>2</th>\n",
       "      <td>2423.27 &lt; monetary_dnn &lt;= 4087.26</td>\n",
       "      <td>0.2438</td>\n",
       "      <td>1.000000</td>\n",
       "      <td>b'3606.53 &lt; target_monetary &lt;= 5891.80'</td>\n",
       "    </tr>\n",
       "    <tr>\n",
       "      <th>3</th>\n",
       "      <td>1167.98 &lt; monetary_dnn &lt;= 2423.27 AND T &lt;= 306.00</td>\n",
       "      <td>0.0573</td>\n",
       "      <td>1.000000</td>\n",
       "      <td>b'1922.54 &lt; target_monetary &lt;= 3606.53'</td>\n",
       "    </tr>\n",
       "    <tr>\n",
       "      <th>4</th>\n",
       "      <td>1167.98 &lt; monetary_dnn &lt;= 2423.27 AND recency ...</td>\n",
       "      <td>0.0515</td>\n",
       "      <td>1.000000</td>\n",
       "      <td>b'1922.54 &lt; target_monetary &lt;= 3606.53'</td>\n",
       "    </tr>\n",
       "    <tr>\n",
       "      <th>5</th>\n",
       "      <td>1167.98 &lt; monetary_dnn &lt;= 2423.27 AND time_bet...</td>\n",
       "      <td>0.0348</td>\n",
       "      <td>0.957143</td>\n",
       "      <td>b'1922.54 &lt; target_monetary &lt;= 3606.53'</td>\n",
       "    </tr>\n",
       "    <tr>\n",
       "      <th>6</th>\n",
       "      <td>1167.98 &lt; monetary_dnn &lt;= 2423.27 AND time_bet...</td>\n",
       "      <td>0.0230</td>\n",
       "      <td>1.000000</td>\n",
       "      <td>b'1922.54 &lt; target_monetary &lt;= 3606.53'</td>\n",
       "    </tr>\n",
       "    <tr>\n",
       "      <th>7</th>\n",
       "      <td>1167.98 &lt; monetary_dnn &lt;= 2423.27 AND avg_bask...</td>\n",
       "      <td>0.0165</td>\n",
       "      <td>0.988848</td>\n",
       "      <td>b'target_monetary &lt;= 1922.54'</td>\n",
       "    </tr>\n",
       "    <tr>\n",
       "      <th>8</th>\n",
       "      <td>1167.98 &lt; monetary_dnn &lt;= 2423.27 AND time_bet...</td>\n",
       "      <td>0.0144</td>\n",
       "      <td>1.000000</td>\n",
       "      <td>b'1922.54 &lt; target_monetary &lt;= 3606.53'</td>\n",
       "    </tr>\n",
       "    <tr>\n",
       "      <th>9</th>\n",
       "      <td>1167.98 &lt; monetary_dnn &lt;= 2423.27 AND 28.37 &lt; ...</td>\n",
       "      <td>0.0127</td>\n",
       "      <td>1.000000</td>\n",
       "      <td>b'1922.54 &lt; target_monetary &lt;= 3606.53'</td>\n",
       "    </tr>\n",
       "    <tr>\n",
       "      <th>10</th>\n",
       "      <td>1167.98 &lt; monetary_dnn &lt;= 2423.27 AND time_bet...</td>\n",
       "      <td>0.0115</td>\n",
       "      <td>0.972705</td>\n",
       "      <td>b'target_monetary &lt;= 1922.54'</td>\n",
       "    </tr>\n",
       "    <tr>\n",
       "      <th>11</th>\n",
       "      <td>1167.98 &lt; monetary_dnn &lt;= 2423.27 AND time_bet...</td>\n",
       "      <td>0.0114</td>\n",
       "      <td>0.989130</td>\n",
       "      <td>b'target_monetary &lt;= 1922.54'</td>\n",
       "    </tr>\n",
       "    <tr>\n",
       "      <th>12</th>\n",
       "      <td>1167.98 &lt; monetary_dnn &lt;= 2423.27 AND time_bet...</td>\n",
       "      <td>0.0112</td>\n",
       "      <td>0.953737</td>\n",
       "      <td>b'target_monetary &lt;= 1922.54'</td>\n",
       "    </tr>\n",
       "    <tr>\n",
       "      <th>13</th>\n",
       "      <td>1167.98 &lt; monetary_dnn &lt;= 2423.27 AND avg_bask...</td>\n",
       "      <td>0.0110</td>\n",
       "      <td>0.966102</td>\n",
       "      <td>b'target_monetary &lt;= 1922.54'</td>\n",
       "    </tr>\n",
       "    <tr>\n",
       "      <th>14</th>\n",
       "      <td>1167.98 &lt; monetary_dnn &lt;= 2423.27 AND 306.00 &lt;...</td>\n",
       "      <td>0.0102</td>\n",
       "      <td>0.987952</td>\n",
       "      <td>b'target_monetary &lt;= 1922.54'</td>\n",
       "    </tr>\n",
       "    <tr>\n",
       "      <th>15</th>\n",
       "      <td>1167.98 &lt; monetary_dnn &lt;= 2423.27 AND 306.00 &lt;...</td>\n",
       "      <td>0.0094</td>\n",
       "      <td>0.981900</td>\n",
       "      <td>b'target_monetary &lt;= 1922.54'</td>\n",
       "    </tr>\n",
       "    <tr>\n",
       "      <th>16</th>\n",
       "      <td>1167.98 &lt; monetary_dnn &lt;= 2423.27 AND 306.00 &lt;...</td>\n",
       "      <td>0.0067</td>\n",
       "      <td>0.973333</td>\n",
       "      <td>b'target_monetary &lt;= 1922.54'</td>\n",
       "    </tr>\n",
       "    <tr>\n",
       "      <th>17</th>\n",
       "      <td>1167.98 &lt; monetary_dnn &lt;= 2423.27 AND 306.00 &lt;...</td>\n",
       "      <td>0.0057</td>\n",
       "      <td>1.000000</td>\n",
       "      <td>b'target_monetary &lt;= 1922.54'</td>\n",
       "    </tr>\n",
       "    <tr>\n",
       "      <th>18</th>\n",
       "      <td>1167.98 &lt; monetary_dnn &lt;= 2423.27 AND 28.37 &lt; ...</td>\n",
       "      <td>0.0047</td>\n",
       "      <td>0.979021</td>\n",
       "      <td>b'1922.54 &lt; target_monetary &lt;= 3606.53'</td>\n",
       "    </tr>\n",
       "    <tr>\n",
       "      <th>19</th>\n",
       "      <td>1167.98 &lt; monetary_dnn &lt;= 2423.27 AND 306.00 &lt;...</td>\n",
       "      <td>0.0040</td>\n",
       "      <td>1.000000</td>\n",
       "      <td>b'target_monetary &lt;= 1922.54'</td>\n",
       "    </tr>\n",
       "    <tr>\n",
       "      <th>20</th>\n",
       "      <td>1167.98 &lt; monetary_dnn &lt;= 2423.27 AND 306.00 &lt;...</td>\n",
       "      <td>0.0039</td>\n",
       "      <td>0.955102</td>\n",
       "      <td>b'target_monetary &lt;= 1922.54'</td>\n",
       "    </tr>\n",
       "    <tr>\n",
       "      <th>21</th>\n",
       "      <td>1167.98 &lt; monetary_dnn &lt;= 2423.27 AND avg_bask...</td>\n",
       "      <td>0.0027</td>\n",
       "      <td>1.000000</td>\n",
       "      <td>b'1922.54 &lt; target_monetary &lt;= 3606.53'</td>\n",
       "    </tr>\n",
       "    <tr>\n",
       "      <th>22</th>\n",
       "      <td>1167.98 &lt; monetary_dnn &lt;= 2423.27 AND 306.00 &lt;...</td>\n",
       "      <td>0.0027</td>\n",
       "      <td>1.000000</td>\n",
       "      <td>b'target_monetary &lt;= 1922.54'</td>\n",
       "    </tr>\n",
       "    <tr>\n",
       "      <th>23</th>\n",
       "      <td>1167.98 &lt; monetary_dnn &lt;= 2423.27 AND 331.00 &lt;...</td>\n",
       "      <td>0.0018</td>\n",
       "      <td>1.000000</td>\n",
       "      <td>b'target_monetary &lt;= 1922.54'</td>\n",
       "    </tr>\n",
       "    <tr>\n",
       "      <th>24</th>\n",
       "      <td>1167.98 &lt; monetary_dnn &lt;= 2423.27 AND T &gt; 334....</td>\n",
       "      <td>0.0006</td>\n",
       "      <td>1.000000</td>\n",
       "      <td>b'target_monetary &lt;= 1922.54'</td>\n",
       "    </tr>\n",
       "    <tr>\n",
       "      <th>25</th>\n",
       "      <td>1167.98 &lt; monetary_dnn &lt;= 2423.27 AND 331.00 &lt;...</td>\n",
       "      <td>0.0000</td>\n",
       "      <td>1.000000</td>\n",
       "      <td>b'target_monetary &lt;= 1922.54'</td>\n",
       "    </tr>\n",
       "  </tbody>\n",
       "</table>\n",
       "</div>"
      ],
      "text/plain": [
       "                                               anchor  coverage  precision  \\\n",
       "0                             monetary_dnn <= 1167.98    0.2568   1.000000   \n",
       "1                              monetary_dnn > 4087.26    0.2524   1.000000   \n",
       "2                   2423.27 < monetary_dnn <= 4087.26    0.2438   1.000000   \n",
       "3   1167.98 < monetary_dnn <= 2423.27 AND T <= 306.00    0.0573   1.000000   \n",
       "4   1167.98 < monetary_dnn <= 2423.27 AND recency ...    0.0515   1.000000   \n",
       "5   1167.98 < monetary_dnn <= 2423.27 AND time_bet...    0.0348   0.957143   \n",
       "6   1167.98 < monetary_dnn <= 2423.27 AND time_bet...    0.0230   1.000000   \n",
       "7   1167.98 < monetary_dnn <= 2423.27 AND avg_bask...    0.0165   0.988848   \n",
       "8   1167.98 < monetary_dnn <= 2423.27 AND time_bet...    0.0144   1.000000   \n",
       "9   1167.98 < monetary_dnn <= 2423.27 AND 28.37 < ...    0.0127   1.000000   \n",
       "10  1167.98 < monetary_dnn <= 2423.27 AND time_bet...    0.0115   0.972705   \n",
       "11  1167.98 < monetary_dnn <= 2423.27 AND time_bet...    0.0114   0.989130   \n",
       "12  1167.98 < monetary_dnn <= 2423.27 AND time_bet...    0.0112   0.953737   \n",
       "13  1167.98 < monetary_dnn <= 2423.27 AND avg_bask...    0.0110   0.966102   \n",
       "14  1167.98 < monetary_dnn <= 2423.27 AND 306.00 <...    0.0102   0.987952   \n",
       "15  1167.98 < monetary_dnn <= 2423.27 AND 306.00 <...    0.0094   0.981900   \n",
       "16  1167.98 < monetary_dnn <= 2423.27 AND 306.00 <...    0.0067   0.973333   \n",
       "17  1167.98 < monetary_dnn <= 2423.27 AND 306.00 <...    0.0057   1.000000   \n",
       "18  1167.98 < monetary_dnn <= 2423.27 AND 28.37 < ...    0.0047   0.979021   \n",
       "19  1167.98 < monetary_dnn <= 2423.27 AND 306.00 <...    0.0040   1.000000   \n",
       "20  1167.98 < monetary_dnn <= 2423.27 AND 306.00 <...    0.0039   0.955102   \n",
       "21  1167.98 < monetary_dnn <= 2423.27 AND avg_bask...    0.0027   1.000000   \n",
       "22  1167.98 < monetary_dnn <= 2423.27 AND 306.00 <...    0.0027   1.000000   \n",
       "23  1167.98 < monetary_dnn <= 2423.27 AND 331.00 <...    0.0018   1.000000   \n",
       "24  1167.98 < monetary_dnn <= 2423.27 AND T > 334....    0.0006   1.000000   \n",
       "25  1167.98 < monetary_dnn <= 2423.27 AND 331.00 <...    0.0000   1.000000   \n",
       "\n",
       "                                 prediction  \n",
       "0             b'target_monetary <= 1922.54'  \n",
       "1              b'target_monetary > 5891.80'  \n",
       "2   b'3606.53 < target_monetary <= 5891.80'  \n",
       "3   b'1922.54 < target_monetary <= 3606.53'  \n",
       "4   b'1922.54 < target_monetary <= 3606.53'  \n",
       "5   b'1922.54 < target_monetary <= 3606.53'  \n",
       "6   b'1922.54 < target_monetary <= 3606.53'  \n",
       "7             b'target_monetary <= 1922.54'  \n",
       "8   b'1922.54 < target_monetary <= 3606.53'  \n",
       "9   b'1922.54 < target_monetary <= 3606.53'  \n",
       "10            b'target_monetary <= 1922.54'  \n",
       "11            b'target_monetary <= 1922.54'  \n",
       "12            b'target_monetary <= 1922.54'  \n",
       "13            b'target_monetary <= 1922.54'  \n",
       "14            b'target_monetary <= 1922.54'  \n",
       "15            b'target_monetary <= 1922.54'  \n",
       "16            b'target_monetary <= 1922.54'  \n",
       "17            b'target_monetary <= 1922.54'  \n",
       "18  b'1922.54 < target_monetary <= 3606.53'  \n",
       "19            b'target_monetary <= 1922.54'  \n",
       "20            b'target_monetary <= 1922.54'  \n",
       "21  b'1922.54 < target_monetary <= 3606.53'  \n",
       "22            b'target_monetary <= 1922.54'  \n",
       "23            b'target_monetary <= 1922.54'  \n",
       "24            b'target_monetary <= 1922.54'  \n",
       "25            b'target_monetary <= 1922.54'  "
      ]
     },
     "execution_count": 11,
     "metadata": {},
     "output_type": "execute_result"
    }
   ],
   "source": [
    "explainer.explain_model()"
   ]
  },
  {
   "cell_type": "code",
   "execution_count": null,
   "metadata": {
    "collapsed": true
   },
   "outputs": [],
   "source": []
  }
 ],
 "metadata": {
  "kernelspec": {
   "display_name": "Python 3",
   "language": "python",
   "name": "python3"
  },
  "language_info": {
   "codemirror_mode": {
    "name": "ipython",
    "version": 3
   },
   "file_extension": ".py",
   "mimetype": "text/x-python",
   "name": "python",
   "nbconvert_exporter": "python",
   "pygments_lexer": "ipython3",
   "version": "3.6.4"
  }
 },
 "nbformat": 4,
 "nbformat_minor": 2
}
