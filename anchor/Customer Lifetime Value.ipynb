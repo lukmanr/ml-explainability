{
 "cells": [
  {
   "cell_type": "code",
   "execution_count": 1,
   "metadata": {
    "collapsed": false,
    "deletable": true,
    "editable": true
   },
   "outputs": [],
   "source": [
    "#!pip install anchor_exp==0.0.0.5"
   ]
  },
  {
   "cell_type": "code",
   "execution_count": null,
   "metadata": {
    "collapsed": false,
    "deletable": true,
    "editable": true
   },
   "outputs": [],
   "source": [
    "import anchor_explainer as anchor"
   ]
  },
  {
   "cell_type": "code",
   "execution_count": 3,
   "metadata": {
    "collapsed": false,
    "deletable": true,
    "editable": true
   },
   "outputs": [],
   "source": [
    "explainer = anchor.Explainer()"
   ]
  },
  {
   "cell_type": "code",
   "execution_count": 4,
   "metadata": {
    "collapsed": false,
    "deletable": true,
    "editable": true
   },
   "outputs": [],
   "source": [
    "explainer.load_data(\n",
    "  gcs_path = 'gs://ml-clv-data/model_data.csv',\n",
    "  target_idx = 15,\n",
    "  features_to_use = [1,3,5,6,7,8,9,10,11]\n",
    ")"
   ]
  },
  {
   "cell_type": "code",
   "execution_count": 5,
   "metadata": {
    "collapsed": true,
    "deletable": true,
    "editable": true
   },
   "outputs": [],
   "source": [
    "explainer.create_cmle_client(\n",
    "  gcp_project = 'ml-clv',\n",
    "  gcp_model = 'dnn_airflow',\n",
    "  gcp_model_version = 'v1',\n",
    "  output_func = lambda x : x['predicted_monetary'] \n",
    ")"
   ]
  },
  {
   "cell_type": "code",
   "execution_count": 14,
   "metadata": {
    "collapsed": false,
    "deletable": true,
    "editable": true
   },
   "outputs": [
    {
     "data": {
      "text/plain": [
       "{'accuracy': 0.84}"
      ]
     },
     "execution_count": 14,
     "metadata": {},
     "output_type": "execute_result"
    }
   ],
   "source": [
    "explainer.assess_model(sample = 50)"
   ]
  },
  {
   "cell_type": "code",
   "execution_count": 11,
   "metadata": {
    "collapsed": false,
    "deletable": true,
    "editable": true
   },
   "outputs": [
    {
     "data": {
      "text/plain": [
       "{'anchor': '2423.27 < monetary_dnn <= 4087.26',\n",
       " 'coverage': 0.2478,\n",
       " 'precision': 1.0,\n",
       " 'prediction': '3606.53 < target_monetary <= 5891.80',\n",
       " 'record': ['3158.945',\n",
       "  '112',\n",
       "  '329',\n",
       "  '333',\n",
       "  '2.81',\n",
       "  '36.04',\n",
       "  '6.38',\n",
       "  '0',\n",
       "  '0']}"
      ]
     },
     "execution_count": 11,
     "metadata": {},
     "output_type": "execute_result"
    }
   ],
   "source": [
    "rand_expl = explainer.explain_random_record() #, show_in_notebook = True)\n",
    "rand_expl"
   ]
  },
  {
   "cell_type": "code",
   "execution_count": 12,
   "metadata": {
    "collapsed": false,
    "deletable": true,
    "editable": true
   },
   "outputs": [
    {
     "name": "stdout",
     "output_type": "stream",
     "text": [
      "2000,112,329,333,2.81,36.04,6.38,0,0\n"
     ]
    },
    {
     "data": {
      "text/plain": [
       "{'anchor': '1167.98 < monetary_dnn <= 2423.27 AND time_between <= 3.67 AND 325.00 < recency <= 331.00',\n",
       " 'coverage': 0.0074,\n",
       " 'precision': 0.9806763285024155,\n",
       " 'prediction': 'target_monetary <= 1922.54',\n",
       " 'record': ['1779.22', '112', '329', '333', '2.81', '36.04', '6.38', '0', '0']}"
      ]
     },
     "execution_count": 12,
     "metadata": {},
     "output_type": "execute_result"
    }
   ],
   "source": [
    "mod_record = ','.join(['2000'] + rand_expl['record'][1:])\n",
    "print(mod_record)\n",
    "explainer.explain_record(mod_record\n",
    ") #, show_in_notebook = True)"
   ]
  },
  {
   "cell_type": "code",
   "execution_count": 15,
   "metadata": {
    "collapsed": false,
    "deletable": true,
    "editable": true
   },
   "outputs": [
    {
     "data": {
      "text/html": [
       "<div>\n",
       "<style scoped>\n",
       "    .dataframe tbody tr th:only-of-type {\n",
       "        vertical-align: middle;\n",
       "    }\n",
       "\n",
       "    .dataframe tbody tr th {\n",
       "        vertical-align: top;\n",
       "    }\n",
       "\n",
       "    .dataframe thead th {\n",
       "        text-align: right;\n",
       "    }\n",
       "</style>\n",
       "<table border=\"1\" class=\"dataframe\">\n",
       "  <thead>\n",
       "    <tr style=\"text-align: right;\">\n",
       "      <th></th>\n",
       "      <th>anchor</th>\n",
       "      <th>coverage</th>\n",
       "      <th>precision</th>\n",
       "      <th>prediction</th>\n",
       "    </tr>\n",
       "  </thead>\n",
       "  <tbody>\n",
       "    <tr>\n",
       "      <th>0</th>\n",
       "      <td>monetary_dnn &lt;= 1167.98</td>\n",
       "      <td>0.2590</td>\n",
       "      <td>1.000000</td>\n",
       "      <td>target_monetary &lt;= 1922.54</td>\n",
       "    </tr>\n",
       "    <tr>\n",
       "      <th>1</th>\n",
       "      <td>2423.27 &lt; monetary_dnn &lt;= 4087.26</td>\n",
       "      <td>0.2490</td>\n",
       "      <td>1.000000</td>\n",
       "      <td>3606.53 &lt; target_monetary &lt;= 5891.80</td>\n",
       "    </tr>\n",
       "    <tr>\n",
       "      <th>2</th>\n",
       "      <td>monetary_dnn &gt; 4087.26</td>\n",
       "      <td>0.2405</td>\n",
       "      <td>1.000000</td>\n",
       "      <td>target_monetary &gt; 5891.80</td>\n",
       "    </tr>\n",
       "    <tr>\n",
       "      <th>3</th>\n",
       "      <td>1167.98 &lt; monetary_dnn &lt;= 2423.27 AND recency ...</td>\n",
       "      <td>0.0515</td>\n",
       "      <td>0.991701</td>\n",
       "      <td>1922.54 &lt; target_monetary &lt;= 3606.53</td>\n",
       "    </tr>\n",
       "    <tr>\n",
       "      <th>4</th>\n",
       "      <td>1167.98 &lt; monetary_dnn &lt;= 2423.27 AND time_bet...</td>\n",
       "      <td>0.0141</td>\n",
       "      <td>1.000000</td>\n",
       "      <td>1922.54 &lt; target_monetary &lt;= 3606.53</td>\n",
       "    </tr>\n",
       "    <tr>\n",
       "      <th>5</th>\n",
       "      <td>1167.98 &lt; monetary_dnn &lt;= 2423.27 AND 28.37 &lt; ...</td>\n",
       "      <td>0.0126</td>\n",
       "      <td>0.990741</td>\n",
       "      <td>1922.54 &lt; target_monetary &lt;= 3606.53</td>\n",
       "    </tr>\n",
       "    <tr>\n",
       "      <th>6</th>\n",
       "      <td>1167.98 &lt; monetary_dnn &lt;= 2423.27 AND time_bet...</td>\n",
       "      <td>0.0116</td>\n",
       "      <td>0.967033</td>\n",
       "      <td>1922.54 &lt; target_monetary &lt;= 3606.53</td>\n",
       "    </tr>\n",
       "    <tr>\n",
       "      <th>7</th>\n",
       "      <td>1167.98 &lt; monetary_dnn &lt;= 2423.27 AND 291.00 &lt;...</td>\n",
       "      <td>0.0000</td>\n",
       "      <td>1.000000</td>\n",
       "      <td>target_monetary &lt;= 1922.54</td>\n",
       "    </tr>\n",
       "  </tbody>\n",
       "</table>\n",
       "</div>"
      ],
      "text/plain": [
       "                                              anchor  coverage  precision  \\\n",
       "0                            monetary_dnn <= 1167.98    0.2590   1.000000   \n",
       "1                  2423.27 < monetary_dnn <= 4087.26    0.2490   1.000000   \n",
       "2                             monetary_dnn > 4087.26    0.2405   1.000000   \n",
       "3  1167.98 < monetary_dnn <= 2423.27 AND recency ...    0.0515   0.991701   \n",
       "4  1167.98 < monetary_dnn <= 2423.27 AND time_bet...    0.0141   1.000000   \n",
       "5  1167.98 < monetary_dnn <= 2423.27 AND 28.37 < ...    0.0126   0.990741   \n",
       "6  1167.98 < monetary_dnn <= 2423.27 AND time_bet...    0.0116   0.967033   \n",
       "7  1167.98 < monetary_dnn <= 2423.27 AND 291.00 <...    0.0000   1.000000   \n",
       "\n",
       "                             prediction  \n",
       "0            target_monetary <= 1922.54  \n",
       "1  3606.53 < target_monetary <= 5891.80  \n",
       "2             target_monetary > 5891.80  \n",
       "3  1922.54 < target_monetary <= 3606.53  \n",
       "4  1922.54 < target_monetary <= 3606.53  \n",
       "5  1922.54 < target_monetary <= 3606.53  \n",
       "6  1922.54 < target_monetary <= 3606.53  \n",
       "7            target_monetary <= 1922.54  "
      ]
     },
     "execution_count": 15,
     "metadata": {},
     "output_type": "execute_result"
    }
   ],
   "source": [
    "explainer.explain_model(sample=15)"
   ]
  },
  {
   "cell_type": "code",
   "execution_count": null,
   "metadata": {
    "collapsed": true,
    "deletable": true,
    "editable": true
   },
   "outputs": [],
   "source": []
  }
 ],
 "metadata": {
  "kernelspec": {
   "display_name": "Python 2",
   "language": "python",
   "name": "python2"
  },
  "language_info": {
   "codemirror_mode": {
    "name": "ipython",
    "version": 2
   },
   "file_extension": ".py",
   "mimetype": "text/x-python",
   "name": "python",
   "nbconvert_exporter": "python",
   "pygments_lexer": "ipython2",
   "version": "2.7.15"
  }
 },
 "nbformat": 4,
 "nbformat_minor": 2
}
