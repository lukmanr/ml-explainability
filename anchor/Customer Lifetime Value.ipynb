{
 "cells": [
  {
   "cell_type": "code",
   "execution_count": 1,
   "metadata": {},
   "outputs": [],
   "source": [
    "#!pip install anchor_exp==0.0.0.5"
   ]
  },
  {
   "cell_type": "code",
   "execution_count": 16,
   "metadata": {},
   "outputs": [],
   "source": [
    "import json\n",
    "import anchor_explainer as anchor"
   ]
  },
  {
   "cell_type": "code",
   "execution_count": 5,
   "metadata": {},
   "outputs": [],
   "source": [
    "explainer = anchor.Explainer()"
   ]
  },
  {
   "cell_type": "code",
   "execution_count": 6,
   "metadata": {},
   "outputs": [],
   "source": [
    "explainer.load_data(\n",
    "  gcs_path = 'gs://ml-clv-data/model_data.csv',\n",
    "  target_idx = 15,\n",
    "  features_to_use = [1,3,5,6,7,8,9,10,11])"
   ]
  },
  {
   "cell_type": "code",
   "execution_count": 7,
   "metadata": {},
   "outputs": [],
   "source": [
    "token = !gcloud auth print-access-token"
   ]
  },
  {
   "cell_type": "code",
   "execution_count": 8,
   "metadata": {},
   "outputs": [],
   "source": [
    "explainer.create_cmle_client(\n",
    "  gcp_project = 'ml-clv',\n",
    "  gcp_model = 'dnn_airflow',\n",
    "  gcp_model_version = 'v1',\n",
    "  access_token = token[0],\n",
    "  output_func = lambda x : x['predicted_monetary'])"
   ]
  },
  {
   "cell_type": "code",
   "execution_count": 11,
   "metadata": {},
   "outputs": [
    {
     "data": {
      "text/plain": [
       "{'accuracy': 0.72}"
      ]
     },
     "execution_count": 11,
     "metadata": {},
     "output_type": "execute_result"
    }
   ],
   "source": [
    "explainer.assess_model()"
   ]
  },
  {
   "cell_type": "code",
   "execution_count": 10,
   "metadata": {},
   "outputs": [
    {
     "data": {
      "text/plain": [
       "{'anchor': \"2423.27 < b'monetary_dnn' <= 4087.26\",\n",
       " 'coverage': 0.2436,\n",
       " 'precision': 1.0,\n",
       " 'prediction': b\"3606.53 < b'target_monetary' <= 5891.80\",\n",
       " 'record': ['3158.945',\n",
       "  '17',\n",
       "  '329',\n",
       "  '333',\n",
       "  '11.38',\n",
       "  '88.03',\n",
       "  '30.36',\n",
       "  '0',\n",
       "  '0']}"
      ]
     },
     "execution_count": 10,
     "metadata": {},
     "output_type": "execute_result"
    }
   ],
   "source": [
    "rand_expl = explainer.explain_random_record() #, show_in_notebook = True)\n",
    "rand_expl"
   ]
  },
  {
   "cell_type": "code",
   "execution_count": 12,
   "metadata": {},
   "outputs": [
    {
     "name": "stdout",
     "output_type": "stream",
     "text": [
      "2000,17,329,333,11.38,88.03,30.36,0,0\n"
     ]
    },
    {
     "data": {
      "text/plain": [
       "{'anchor': \"1167.98 < b'monetary_dnn' <= 2423.27 AND b'avg_basket_value' > 66.77 AND 325.00 < b'recency' <= 331.00\",\n",
       " 'coverage': 0.0032,\n",
       " 'precision': 1.0,\n",
       " 'prediction': b\"b'target_monetary' <= 1922.54\",\n",
       " 'record': ['1779.22',\n",
       "  '17',\n",
       "  '329',\n",
       "  '333',\n",
       "  '11.38',\n",
       "  '88.03',\n",
       "  '30.36',\n",
       "  '0',\n",
       "  '0']}"
      ]
     },
     "execution_count": 12,
     "metadata": {},
     "output_type": "execute_result"
    }
   ],
   "source": [
    "mod_record = ','.join(['2000'] + rand_expl['record'][1:])\n",
    "print(mod_record)\n",
    "explainer.explain_record(mod_record) #, show_in_notebook = True)"
   ]
  },
  {
   "cell_type": "code",
   "execution_count": 15,
   "metadata": {},
   "outputs": [
    {
     "data": {
      "text/html": [
       "<div>\n",
       "<style scoped>\n",
       "    .dataframe tbody tr th:only-of-type {\n",
       "        vertical-align: middle;\n",
       "    }\n",
       "\n",
       "    .dataframe tbody tr th {\n",
       "        vertical-align: top;\n",
       "    }\n",
       "\n",
       "    .dataframe thead th {\n",
       "        text-align: right;\n",
       "    }\n",
       "</style>\n",
       "<table border=\"1\" class=\"dataframe\">\n",
       "  <thead>\n",
       "    <tr style=\"text-align: right;\">\n",
       "      <th></th>\n",
       "      <th>anchor</th>\n",
       "      <th>coverage</th>\n",
       "      <th>precision</th>\n",
       "      <th>prediction</th>\n",
       "    </tr>\n",
       "  </thead>\n",
       "  <tbody>\n",
       "    <tr>\n",
       "      <th>0</th>\n",
       "      <td>b'monetary_dnn' &lt;= 1167.98</td>\n",
       "      <td>0.2541</td>\n",
       "      <td>1.000000</td>\n",
       "      <td>b\"b'target_monetary' &lt;= 1922.54\"</td>\n",
       "    </tr>\n",
       "    <tr>\n",
       "      <th>1</th>\n",
       "      <td>b'monetary_dnn' &gt; 4087.26</td>\n",
       "      <td>0.2461</td>\n",
       "      <td>1.000000</td>\n",
       "      <td>b\"b'target_monetary' &gt; 5891.80\"</td>\n",
       "    </tr>\n",
       "    <tr>\n",
       "      <th>2</th>\n",
       "      <td>2423.27 &lt; b'monetary_dnn' &lt;= 4087.26</td>\n",
       "      <td>0.2452</td>\n",
       "      <td>1.000000</td>\n",
       "      <td>b\"3606.53 &lt; b'target_monetary' &lt;= 5891.80\"</td>\n",
       "    </tr>\n",
       "    <tr>\n",
       "      <th>3</th>\n",
       "      <td>1167.98 &lt; b'monetary_dnn' &lt;= 2423.27 AND b'T' ...</td>\n",
       "      <td>0.0573</td>\n",
       "      <td>0.992727</td>\n",
       "      <td>b\"1922.54 &lt; b'target_monetary' &lt;= 3606.53\"</td>\n",
       "    </tr>\n",
       "    <tr>\n",
       "      <th>4</th>\n",
       "      <td>1167.98 &lt; b'monetary_dnn' &lt;= 2423.27 AND b'rec...</td>\n",
       "      <td>0.0523</td>\n",
       "      <td>0.989071</td>\n",
       "      <td>b\"1922.54 &lt; b'target_monetary' &lt;= 3606.53\"</td>\n",
       "    </tr>\n",
       "    <tr>\n",
       "      <th>5</th>\n",
       "      <td>1167.98 &lt; b'monetary_dnn' &lt;= 2423.27 AND b'tim...</td>\n",
       "      <td>0.0208</td>\n",
       "      <td>1.000000</td>\n",
       "      <td>b\"1922.54 &lt; b'target_monetary' &lt;= 3606.53\"</td>\n",
       "    </tr>\n",
       "    <tr>\n",
       "      <th>6</th>\n",
       "      <td>1167.98 &lt; b'monetary_dnn' &lt;= 2423.27 AND b'avg...</td>\n",
       "      <td>0.0154</td>\n",
       "      <td>0.987654</td>\n",
       "      <td>b\"b'target_monetary' &lt;= 1922.54\"</td>\n",
       "    </tr>\n",
       "    <tr>\n",
       "      <th>7</th>\n",
       "      <td>1167.98 &lt; b'monetary_dnn' &lt;= 2423.27 AND b'tim...</td>\n",
       "      <td>0.0141</td>\n",
       "      <td>1.000000</td>\n",
       "      <td>b\"1922.54 &lt; b'target_monetary' &lt;= 3606.53\"</td>\n",
       "    </tr>\n",
       "    <tr>\n",
       "      <th>8</th>\n",
       "      <td>1167.98 &lt; b'monetary_dnn' &lt;= 2423.27 AND 28.37...</td>\n",
       "      <td>0.0121</td>\n",
       "      <td>0.951020</td>\n",
       "      <td>b\"1922.54 &lt; b'target_monetary' &lt;= 3606.53\"</td>\n",
       "    </tr>\n",
       "    <tr>\n",
       "      <th>9</th>\n",
       "      <td>1167.98 &lt; b'monetary_dnn' &lt;= 2423.27 AND b'fre...</td>\n",
       "      <td>0.0109</td>\n",
       "      <td>0.969828</td>\n",
       "      <td>b\"b'target_monetary' &lt;= 1922.54\"</td>\n",
       "    </tr>\n",
       "    <tr>\n",
       "      <th>10</th>\n",
       "      <td>1167.98 &lt; b'monetary_dnn' &lt;= 2423.27 AND b'tim...</td>\n",
       "      <td>0.0102</td>\n",
       "      <td>0.988235</td>\n",
       "      <td>b\"b'target_monetary' &lt;= 1922.54\"</td>\n",
       "    </tr>\n",
       "    <tr>\n",
       "      <th>11</th>\n",
       "      <td>1167.98 &lt; b'monetary_dnn' &lt;= 2423.27 AND 306.0...</td>\n",
       "      <td>0.0081</td>\n",
       "      <td>0.955466</td>\n",
       "      <td>b\"b'target_monetary' &lt;= 1922.54\"</td>\n",
       "    </tr>\n",
       "    <tr>\n",
       "      <th>12</th>\n",
       "      <td>1167.98 &lt; b'monetary_dnn' &lt;= 2423.27 AND 306.0...</td>\n",
       "      <td>0.0075</td>\n",
       "      <td>0.960854</td>\n",
       "      <td>b\"b'target_monetary' &lt;= 1922.54\"</td>\n",
       "    </tr>\n",
       "    <tr>\n",
       "      <th>13</th>\n",
       "      <td>1167.98 &lt; b'monetary_dnn' &lt;= 2423.27 AND 306.0...</td>\n",
       "      <td>0.0069</td>\n",
       "      <td>0.983471</td>\n",
       "      <td>b\"b'target_monetary' &lt;= 1922.54\"</td>\n",
       "    </tr>\n",
       "    <tr>\n",
       "      <th>14</th>\n",
       "      <td>1167.98 &lt; b'monetary_dnn' &lt;= 2423.27 AND 28.37...</td>\n",
       "      <td>0.0053</td>\n",
       "      <td>0.978102</td>\n",
       "      <td>b\"1922.54 &lt; b'target_monetary' &lt;= 3606.53\"</td>\n",
       "    </tr>\n",
       "    <tr>\n",
       "      <th>15</th>\n",
       "      <td>1167.98 &lt; b'monetary_dnn' &lt;= 2423.27 AND b'avg...</td>\n",
       "      <td>0.0025</td>\n",
       "      <td>1.000000</td>\n",
       "      <td>b\"1922.54 &lt; b'target_monetary' &lt;= 3606.53\"</td>\n",
       "    </tr>\n",
       "    <tr>\n",
       "      <th>16</th>\n",
       "      <td>1167.98 &lt; b'monetary_dnn' &lt;= 2423.27 AND 28.37...</td>\n",
       "      <td>0.0021</td>\n",
       "      <td>1.000000</td>\n",
       "      <td>b\"1922.54 &lt; b'target_monetary' &lt;= 3606.53\"</td>\n",
       "    </tr>\n",
       "    <tr>\n",
       "      <th>17</th>\n",
       "      <td>1167.98 &lt; b'monetary_dnn' &lt;= 2423.27 AND 331.0...</td>\n",
       "      <td>0.0020</td>\n",
       "      <td>0.990566</td>\n",
       "      <td>b\"b'target_monetary' &lt;= 1922.54\"</td>\n",
       "    </tr>\n",
       "    <tr>\n",
       "      <th>18</th>\n",
       "      <td>1167.98 &lt; b'monetary_dnn' &lt;= 2423.27 AND 306.0...</td>\n",
       "      <td>0.0016</td>\n",
       "      <td>1.000000</td>\n",
       "      <td>b\"b'target_monetary' &lt;= 1922.54\"</td>\n",
       "    </tr>\n",
       "    <tr>\n",
       "      <th>19</th>\n",
       "      <td>1167.98 &lt; b'monetary_dnn' &lt;= 2423.27 AND b'avg...</td>\n",
       "      <td>0.0014</td>\n",
       "      <td>1.000000</td>\n",
       "      <td>b\"1922.54 &lt; b'target_monetary' &lt;= 3606.53\"</td>\n",
       "    </tr>\n",
       "    <tr>\n",
       "      <th>20</th>\n",
       "      <td>1167.98 &lt; b'monetary_dnn' &lt;= 2423.27 AND b'avg...</td>\n",
       "      <td>0.0010</td>\n",
       "      <td>1.000000</td>\n",
       "      <td>b\"1922.54 &lt; b'target_monetary' &lt;= 3606.53\"</td>\n",
       "    </tr>\n",
       "    <tr>\n",
       "      <th>21</th>\n",
       "      <td>1167.98 &lt; b'monetary_dnn' &lt;= 2423.27 AND b'T' ...</td>\n",
       "      <td>0.0006</td>\n",
       "      <td>0.964029</td>\n",
       "      <td>b\"b'target_monetary' &lt;= 1922.54\"</td>\n",
       "    </tr>\n",
       "    <tr>\n",
       "      <th>22</th>\n",
       "      <td>1167.98 &lt; b'monetary_dnn' &lt;= 2423.27 AND b'avg...</td>\n",
       "      <td>0.0005</td>\n",
       "      <td>1.000000</td>\n",
       "      <td>b\"b'target_monetary' &lt;= 1922.54\"</td>\n",
       "    </tr>\n",
       "    <tr>\n",
       "      <th>23</th>\n",
       "      <td>1167.98 &lt; b'monetary_dnn' &lt;= 2423.27 AND b'T' ...</td>\n",
       "      <td>0.0003</td>\n",
       "      <td>0.993056</td>\n",
       "      <td>b\"b'target_monetary' &lt;= 1922.54\"</td>\n",
       "    </tr>\n",
       "    <tr>\n",
       "      <th>24</th>\n",
       "      <td>1167.98 &lt; b'monetary_dnn' &lt;= 2423.27 AND b'T' ...</td>\n",
       "      <td>0.0001</td>\n",
       "      <td>1.000000</td>\n",
       "      <td>b\"b'target_monetary' &lt;= 1922.54\"</td>\n",
       "    </tr>\n",
       "  </tbody>\n",
       "</table>\n",
       "</div>"
      ],
      "text/plain": [
       "                                               anchor  coverage  precision  \\\n",
       "0                          b'monetary_dnn' <= 1167.98    0.2541   1.000000   \n",
       "1                           b'monetary_dnn' > 4087.26    0.2461   1.000000   \n",
       "2                2423.27 < b'monetary_dnn' <= 4087.26    0.2452   1.000000   \n",
       "3   1167.98 < b'monetary_dnn' <= 2423.27 AND b'T' ...    0.0573   0.992727   \n",
       "4   1167.98 < b'monetary_dnn' <= 2423.27 AND b'rec...    0.0523   0.989071   \n",
       "5   1167.98 < b'monetary_dnn' <= 2423.27 AND b'tim...    0.0208   1.000000   \n",
       "6   1167.98 < b'monetary_dnn' <= 2423.27 AND b'avg...    0.0154   0.987654   \n",
       "7   1167.98 < b'monetary_dnn' <= 2423.27 AND b'tim...    0.0141   1.000000   \n",
       "8   1167.98 < b'monetary_dnn' <= 2423.27 AND 28.37...    0.0121   0.951020   \n",
       "9   1167.98 < b'monetary_dnn' <= 2423.27 AND b'fre...    0.0109   0.969828   \n",
       "10  1167.98 < b'monetary_dnn' <= 2423.27 AND b'tim...    0.0102   0.988235   \n",
       "11  1167.98 < b'monetary_dnn' <= 2423.27 AND 306.0...    0.0081   0.955466   \n",
       "12  1167.98 < b'monetary_dnn' <= 2423.27 AND 306.0...    0.0075   0.960854   \n",
       "13  1167.98 < b'monetary_dnn' <= 2423.27 AND 306.0...    0.0069   0.983471   \n",
       "14  1167.98 < b'monetary_dnn' <= 2423.27 AND 28.37...    0.0053   0.978102   \n",
       "15  1167.98 < b'monetary_dnn' <= 2423.27 AND b'avg...    0.0025   1.000000   \n",
       "16  1167.98 < b'monetary_dnn' <= 2423.27 AND 28.37...    0.0021   1.000000   \n",
       "17  1167.98 < b'monetary_dnn' <= 2423.27 AND 331.0...    0.0020   0.990566   \n",
       "18  1167.98 < b'monetary_dnn' <= 2423.27 AND 306.0...    0.0016   1.000000   \n",
       "19  1167.98 < b'monetary_dnn' <= 2423.27 AND b'avg...    0.0014   1.000000   \n",
       "20  1167.98 < b'monetary_dnn' <= 2423.27 AND b'avg...    0.0010   1.000000   \n",
       "21  1167.98 < b'monetary_dnn' <= 2423.27 AND b'T' ...    0.0006   0.964029   \n",
       "22  1167.98 < b'monetary_dnn' <= 2423.27 AND b'avg...    0.0005   1.000000   \n",
       "23  1167.98 < b'monetary_dnn' <= 2423.27 AND b'T' ...    0.0003   0.993056   \n",
       "24  1167.98 < b'monetary_dnn' <= 2423.27 AND b'T' ...    0.0001   1.000000   \n",
       "\n",
       "                                    prediction  \n",
       "0             b\"b'target_monetary' <= 1922.54\"  \n",
       "1              b\"b'target_monetary' > 5891.80\"  \n",
       "2   b\"3606.53 < b'target_monetary' <= 5891.80\"  \n",
       "3   b\"1922.54 < b'target_monetary' <= 3606.53\"  \n",
       "4   b\"1922.54 < b'target_monetary' <= 3606.53\"  \n",
       "5   b\"1922.54 < b'target_monetary' <= 3606.53\"  \n",
       "6             b\"b'target_monetary' <= 1922.54\"  \n",
       "7   b\"1922.54 < b'target_monetary' <= 3606.53\"  \n",
       "8   b\"1922.54 < b'target_monetary' <= 3606.53\"  \n",
       "9             b\"b'target_monetary' <= 1922.54\"  \n",
       "10            b\"b'target_monetary' <= 1922.54\"  \n",
       "11            b\"b'target_monetary' <= 1922.54\"  \n",
       "12            b\"b'target_monetary' <= 1922.54\"  \n",
       "13            b\"b'target_monetary' <= 1922.54\"  \n",
       "14  b\"1922.54 < b'target_monetary' <= 3606.53\"  \n",
       "15  b\"1922.54 < b'target_monetary' <= 3606.53\"  \n",
       "16  b\"1922.54 < b'target_monetary' <= 3606.53\"  \n",
       "17            b\"b'target_monetary' <= 1922.54\"  \n",
       "18            b\"b'target_monetary' <= 1922.54\"  \n",
       "19  b\"1922.54 < b'target_monetary' <= 3606.53\"  \n",
       "20  b\"1922.54 < b'target_monetary' <= 3606.53\"  \n",
       "21            b\"b'target_monetary' <= 1922.54\"  \n",
       "22            b\"b'target_monetary' <= 1922.54\"  \n",
       "23            b\"b'target_monetary' <= 1922.54\"  \n",
       "24            b\"b'target_monetary' <= 1922.54\"  "
      ]
     },
     "execution_count": 15,
     "metadata": {},
     "output_type": "execute_result"
    }
   ],
   "source": [
    "explainer.explain_model()"
   ]
  },
  {
   "cell_type": "code",
   "execution_count": null,
   "metadata": {
    "collapsed": true
   },
   "outputs": [],
   "source": []
  }
 ],
 "metadata": {
  "kernelspec": {
   "display_name": "Python 3",
   "language": "python",
   "name": "python3"
  },
  "language_info": {
   "codemirror_mode": {
    "name": "ipython",
    "version": 3
   },
   "file_extension": ".py",
   "mimetype": "text/x-python",
   "name": "python",
   "nbconvert_exporter": "python",
   "pygments_lexer": "ipython3",
   "version": "3.6.4"
  }
 },
 "nbformat": 4,
 "nbformat_minor": 2
}
