{
 "cells": [
  {
   "cell_type": "code",
   "execution_count": 1,
   "metadata": {},
   "outputs": [
    {
     "name": "stderr",
     "output_type": "stream",
     "text": [
      "/usr/local/envs/py3env/lib/python3.5/site-packages/h5py/__init__.py:36: FutureWarning: Conversion of the second argument of issubdtype from `float` to `np.floating` is deprecated. In future, it will be treated as `np.float64 == np.dtype(float).type`.\n",
      "  from ._conv import register_converters as _register_converters\n"
     ]
    }
   ],
   "source": [
    "import itertools\n",
    "import lime_explainer as lime"
   ]
  },
  {
   "cell_type": "code",
   "execution_count": 2,
   "metadata": {},
   "outputs": [],
   "source": [
    "feature_names = ['customer_id', 'monetary_dnn', 'monetary_btyd', 'frequency_dnn',\n",
    "                 'frequency_btyd', 'recency', 'T', 'time_between',\n",
    "                 'avg_basket_value', 'avg_basket_size', 'cnt_returns',\n",
    "                 'has_returned', 'frequency_btyd_clipped', 'monetary_btyd_clipped',\n",
    "                 'target_monetary_clipped', 'target_monetary']"
   ]
  },
  {
   "cell_type": "code",
   "execution_count": 3,
   "metadata": {},
   "outputs": [],
   "source": [
    "explainer = lime.Explainer()"
   ]
  },
  {
   "cell_type": "code",
   "execution_count": 4,
   "metadata": {},
   "outputs": [],
   "source": [
    "explainer.load_data(\n",
    "  gcs_path = 'gs://ml-clv-data/model_data.csv',\n",
    "  features_to_use = [1,3,5,6,7,8,9,10,11],\n",
    "  feature_names = feature_names,\n",
    "  target_idx = 15,\n",
    "  skip_first=True \n",
    ")"
   ]
  },
  {
   "cell_type": "code",
   "execution_count": 5,
   "metadata": {},
   "outputs": [],
   "source": [
    "explainer.create_cmle_client(\n",
    "  gcp_project = 'ml-clv',\n",
    "  gcp_model = 'dnn_airflow',\n",
    "  gcp_model_version = 'v1',\n",
    "  output_func = lambda x : x['predicted_monetary'] \n",
    ")"
   ]
  },
  {
   "cell_type": "code",
   "execution_count": 12,
   "metadata": {},
   "outputs": [
    {
     "name": "stdout",
     "output_type": "stream",
     "text": [
      "Intercept 8112.557044310286\n",
      "Prediction_local [-884.25840127]\n",
      "Right: -187.04930114746094\n"
     ]
    }
   ],
   "source": [
    "record, df = explainer.explain_random_record(numeric_rows=[1,2,3,7,8])"
   ]
  },
  {
   "cell_type": "code",
   "execution_count": 8,
   "metadata": {},
   "outputs": [
    {
     "name": "stdout",
     "output_type": "stream",
     "text": [
      "[1224.0900000000001, 43.0, 256.0, 274.0, 5.95, 28.47, 18.91, 0.0, 0.0]\n"
     ]
    }
   ],
   "source": [
    "print(record)"
   ]
  },
  {
   "cell_type": "code",
   "execution_count": 9,
   "metadata": {},
   "outputs": [
    {
     "data": {
      "text/html": [
       "<div>\n",
       "<style scoped>\n",
       "    .dataframe tbody tr th:only-of-type {\n",
       "        vertical-align: middle;\n",
       "    }\n",
       "\n",
       "    .dataframe tbody tr th {\n",
       "        vertical-align: top;\n",
       "    }\n",
       "\n",
       "    .dataframe thead th {\n",
       "        text-align: right;\n",
       "    }\n",
       "</style>\n",
       "<table border=\"1\" class=\"dataframe\">\n",
       "  <thead>\n",
       "    <tr style=\"text-align: right;\">\n",
       "      <th></th>\n",
       "      <th>representation</th>\n",
       "      <th>weight</th>\n",
       "    </tr>\n",
       "  </thead>\n",
       "  <tbody>\n",
       "    <tr>\n",
       "      <th>0</th>\n",
       "      <td>T &lt;= 306.00</td>\n",
       "      <td>-10825.846271</td>\n",
       "    </tr>\n",
       "    <tr>\n",
       "      <th>1</th>\n",
       "      <td>29.00 &lt; frequency_dnn &lt;= 52.00</td>\n",
       "      <td>-9976.733982</td>\n",
       "    </tr>\n",
       "    <tr>\n",
       "      <th>2</th>\n",
       "      <td>cnt_returns &lt;= 0.00</td>\n",
       "      <td>-7491.042877</td>\n",
       "    </tr>\n",
       "    <tr>\n",
       "      <th>3</th>\n",
       "      <td>1167.98 &lt; monetary_dnn &lt;= 2423.27</td>\n",
       "      <td>-2145.994288</td>\n",
       "    </tr>\n",
       "    <tr>\n",
       "      <th>4</th>\n",
       "      <td>14.75 &lt; avg_basket_size &lt;= 22.66</td>\n",
       "      <td>1544.865588</td>\n",
       "    </tr>\n",
       "  </tbody>\n",
       "</table>\n",
       "</div>"
      ],
      "text/plain": [
       "                      representation        weight\n",
       "0                        T <= 306.00 -10825.846271\n",
       "1     29.00 < frequency_dnn <= 52.00  -9976.733982\n",
       "2                cnt_returns <= 0.00  -7491.042877\n",
       "3  1167.98 < monetary_dnn <= 2423.27  -2145.994288\n",
       "4   14.75 < avg_basket_size <= 22.66   1544.865588"
      ]
     },
     "execution_count": 9,
     "metadata": {},
     "output_type": "execute_result"
    }
   ],
   "source": [
    "df"
   ]
  },
  {
   "cell_type": "code",
   "execution_count": 10,
   "metadata": {},
   "outputs": [
    {
     "name": "stdout",
     "output_type": "stream",
     "text": [
      "Mod Record: 2000,43.0,256.0,274.0,5.95,28.47,18.91,0.0,0.0\n",
      "\n",
      "\n",
      "Intercept 21754.256665876586\n",
      "Prediction_local [4659.79214245]\n",
      "Right: 2286.3837890625\n"
     ]
    }
   ],
   "source": [
    "mod_record = ','.join(['2000'] + [str(e) for e in record[1:]])\n",
    "print('Mod Record: {}\\n\\n'.format(mod_record))\n",
    "_, mod_df = explainer.explain_record(mod_record)"
   ]
  },
  {
   "cell_type": "code",
   "execution_count": 11,
   "metadata": {},
   "outputs": [
    {
     "data": {
      "text/html": [
       "<div>\n",
       "<style scoped>\n",
       "    .dataframe tbody tr th:only-of-type {\n",
       "        vertical-align: middle;\n",
       "    }\n",
       "\n",
       "    .dataframe tbody tr th {\n",
       "        vertical-align: top;\n",
       "    }\n",
       "\n",
       "    .dataframe thead th {\n",
       "        text-align: right;\n",
       "    }\n",
       "</style>\n",
       "<table border=\"1\" class=\"dataframe\">\n",
       "  <thead>\n",
       "    <tr style=\"text-align: right;\">\n",
       "      <th></th>\n",
       "      <th>representation</th>\n",
       "      <th>weight</th>\n",
       "    </tr>\n",
       "  </thead>\n",
       "  <tbody>\n",
       "    <tr>\n",
       "      <th>0</th>\n",
       "      <td>cnt_returns &lt;= 0.00</td>\n",
       "      <td>-18728.706895</td>\n",
       "    </tr>\n",
       "    <tr>\n",
       "      <th>1</th>\n",
       "      <td>recency &lt;= 291.00</td>\n",
       "      <td>4236.427836</td>\n",
       "    </tr>\n",
       "    <tr>\n",
       "      <th>2</th>\n",
       "      <td>29.00 &lt; frequency_dnn &lt;= 52.00</td>\n",
       "      <td>-3740.671404</td>\n",
       "    </tr>\n",
       "    <tr>\n",
       "      <th>3</th>\n",
       "      <td>has_returned &lt;= 0.00</td>\n",
       "      <td>3237.424785</td>\n",
       "    </tr>\n",
       "    <tr>\n",
       "      <th>4</th>\n",
       "      <td>T &lt;= 306.00</td>\n",
       "      <td>-2098.938845</td>\n",
       "    </tr>\n",
       "  </tbody>\n",
       "</table>\n",
       "</div>"
      ],
      "text/plain": [
       "                   representation        weight\n",
       "0             cnt_returns <= 0.00 -18728.706895\n",
       "1               recency <= 291.00   4236.427836\n",
       "2  29.00 < frequency_dnn <= 52.00  -3740.671404\n",
       "3            has_returned <= 0.00   3237.424785\n",
       "4                     T <= 306.00  -2098.938845"
      ]
     },
     "execution_count": 11,
     "metadata": {},
     "output_type": "execute_result"
    }
   ],
   "source": [
    "mod_df"
   ]
  }
 ],
 "metadata": {
  "kernelspec": {
   "display_name": "Python 3",
   "language": "python",
   "name": "python3"
  },
  "language_info": {
   "codemirror_mode": {
    "name": "ipython",
    "version": 3
   },
   "file_extension": ".py",
   "mimetype": "text/x-python",
   "name": "python",
   "nbconvert_exporter": "python",
   "pygments_lexer": "ipython3",
   "version": "3.5.5"
  }
 },
 "nbformat": 4,
 "nbformat_minor": 2
}
