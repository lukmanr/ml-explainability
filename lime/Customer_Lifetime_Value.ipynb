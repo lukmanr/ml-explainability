{
 "cells": [
  {
   "cell_type": "code",
   "execution_count": 13,
   "metadata": {},
   "outputs": [],
   "source": [
    "import itertools\n",
    "import lime_explainer as lime"
   ]
  },
  {
   "cell_type": "code",
   "execution_count": 2,
   "metadata": {},
   "outputs": [],
   "source": [
    "feature_names = ['customer_id', 'monetary_dnn', 'monetary_btyd', 'frequency_dnn',\n",
    "                 'frequency_btyd', 'recency', 'T', 'time_between',\n",
    "                 'avg_basket_value', 'avg_basket_size', 'cnt_returns',\n",
    "                 'has_returned', 'frequency_btyd_clipped', 'monetary_btyd_clipped',\n",
    "                 'target_monetary_clipped', 'target_monetary']"
   ]
  },
  {
   "cell_type": "code",
   "execution_count": 3,
   "metadata": {},
   "outputs": [],
   "source": [
    "explainer = lime.Explainer()"
   ]
  },
  {
   "cell_type": "code",
   "execution_count": 4,
   "metadata": {},
   "outputs": [],
   "source": [
    "explainer.load_data(\n",
    "  gcs_path = 'gs://ml-clv-data/model_data.csv',\n",
    "  features_to_use = [1,3,5,6,7,8,9,10,11],\n",
    "  feature_names = feature_names,\n",
    "  target_idx = 15,\n",
    "  skip_first=True,\n",
    "  integer_rows=[1,2,3,7,8]\n",
    ")"
   ]
  },
  {
   "cell_type": "code",
   "execution_count": 5,
   "metadata": {},
   "outputs": [],
   "source": [
    "explainer.create_cmle_client(\n",
    "  gcp_project = 'ml-clv',\n",
    "  gcp_model = 'dnn_airflow',\n",
    "  gcp_model_version = 'v1',\n",
    "  output_func = lambda x : x['predicted_monetary'] \n",
    ")"
   ]
  },
  {
   "cell_type": "code",
   "execution_count": 6,
   "metadata": {},
   "outputs": [
    {
     "name": "stdout",
     "output_type": "stream",
     "text": [
      "Intercept 11038.618081542227\n",
      "Prediction_local [9964.70413089]\n",
      "Right: 6469.44140625\n"
     ]
    }
   ],
   "source": [
    "record, df = explainer.explain_random_record()"
   ]
  },
  {
   "cell_type": "code",
   "execution_count": 7,
   "metadata": {},
   "outputs": [
    {
     "name": "stdout",
     "output_type": "stream",
     "text": [
      "[5335.55, 93.0, 332.0, 333.0, 3.57, 57.37, 17.9, 0.0, 0.0]\n"
     ]
    }
   ],
   "source": [
    "print(record)"
   ]
  },
  {
   "cell_type": "code",
   "execution_count": 8,
   "metadata": {},
   "outputs": [
    {
     "data": {
      "text/html": [
       "<div>\n",
       "<style scoped>\n",
       "    .dataframe tbody tr th:only-of-type {\n",
       "        vertical-align: middle;\n",
       "    }\n",
       "\n",
       "    .dataframe tbody tr th {\n",
       "        vertical-align: top;\n",
       "    }\n",
       "\n",
       "    .dataframe thead th {\n",
       "        text-align: right;\n",
       "    }\n",
       "</style>\n",
       "<table border=\"1\" class=\"dataframe\">\n",
       "  <thead>\n",
       "    <tr style=\"text-align: right;\">\n",
       "      <th></th>\n",
       "      <th>representation</th>\n",
       "      <th>weight</th>\n",
       "    </tr>\n",
       "  </thead>\n",
       "  <tbody>\n",
       "    <tr>\n",
       "      <th>0</th>\n",
       "      <td>monetary_dnn &gt; 4087.26</td>\n",
       "      <td>16496.327771</td>\n",
       "    </tr>\n",
       "    <tr>\n",
       "      <th>1</th>\n",
       "      <td>recency &gt; 331.00</td>\n",
       "      <td>-9440.772419</td>\n",
       "    </tr>\n",
       "    <tr>\n",
       "      <th>2</th>\n",
       "      <td>331.00 &lt; T &lt;= 334.00</td>\n",
       "      <td>-7536.684959</td>\n",
       "    </tr>\n",
       "    <tr>\n",
       "      <th>3</th>\n",
       "      <td>time_between &lt;= 3.67</td>\n",
       "      <td>-4248.530095</td>\n",
       "    </tr>\n",
       "    <tr>\n",
       "      <th>4</th>\n",
       "      <td>has_returned &lt;= 0.00</td>\n",
       "      <td>3655.745752</td>\n",
       "    </tr>\n",
       "  </tbody>\n",
       "</table>\n",
       "</div>"
      ],
      "text/plain": [
       "           representation        weight\n",
       "0  monetary_dnn > 4087.26  16496.327771\n",
       "1        recency > 331.00  -9440.772419\n",
       "2    331.00 < T <= 334.00  -7536.684959\n",
       "3    time_between <= 3.67  -4248.530095\n",
       "4    has_returned <= 0.00   3655.745752"
      ]
     },
     "execution_count": 8,
     "metadata": {},
     "output_type": "execute_result"
    }
   ],
   "source": [
    "df"
   ]
  },
  {
   "cell_type": "code",
   "execution_count": 9,
   "metadata": {},
   "outputs": [
    {
     "name": "stdout",
     "output_type": "stream",
     "text": [
      "Mod Record: 2000,93.0,332.0,333.0,3.57,57.37,17.9,0.0,0.0\n",
      "\n",
      "\n",
      "Intercept 2494.599610660366\n",
      "Prediction_local [2009.02564277]\n",
      "Right: 1795.589599609375\n"
     ]
    }
   ],
   "source": [
    "mod_record = ','.join(['2000'] + [str(e) for e in record[1:]])\n",
    "print('Mod Record: {}\\n\\n'.format(mod_record))\n",
    "_, mod_df = explainer.explain_record(mod_record)"
   ]
  },
  {
   "cell_type": "code",
   "execution_count": 10,
   "metadata": {},
   "outputs": [
    {
     "data": {
      "text/html": [
       "<div>\n",
       "<style scoped>\n",
       "    .dataframe tbody tr th:only-of-type {\n",
       "        vertical-align: middle;\n",
       "    }\n",
       "\n",
       "    .dataframe tbody tr th {\n",
       "        vertical-align: top;\n",
       "    }\n",
       "\n",
       "    .dataframe thead th {\n",
       "        text-align: right;\n",
       "    }\n",
       "</style>\n",
       "<table border=\"1\" class=\"dataframe\">\n",
       "  <thead>\n",
       "    <tr style=\"text-align: right;\">\n",
       "      <th></th>\n",
       "      <th>representation</th>\n",
       "      <th>weight</th>\n",
       "    </tr>\n",
       "  </thead>\n",
       "  <tbody>\n",
       "    <tr>\n",
       "      <th>0</th>\n",
       "      <td>331.00 &lt; T &lt;= 334.00</td>\n",
       "      <td>-1100.115940</td>\n",
       "    </tr>\n",
       "    <tr>\n",
       "      <th>1</th>\n",
       "      <td>44.28 &lt; avg_basket_value &lt;= 66.77</td>\n",
       "      <td>1035.075662</td>\n",
       "    </tr>\n",
       "    <tr>\n",
       "      <th>2</th>\n",
       "      <td>recency &gt; 331.00</td>\n",
       "      <td>640.618780</td>\n",
       "    </tr>\n",
       "    <tr>\n",
       "      <th>3</th>\n",
       "      <td>1167.98 &lt; monetary_dnn &lt;= 2423.27</td>\n",
       "      <td>-559.371108</td>\n",
       "    </tr>\n",
       "    <tr>\n",
       "      <th>4</th>\n",
       "      <td>cnt_returns &lt;= 0.00</td>\n",
       "      <td>-501.781362</td>\n",
       "    </tr>\n",
       "  </tbody>\n",
       "</table>\n",
       "</div>"
      ],
      "text/plain": [
       "                      representation       weight\n",
       "0               331.00 < T <= 334.00 -1100.115940\n",
       "1  44.28 < avg_basket_value <= 66.77  1035.075662\n",
       "2                   recency > 331.00   640.618780\n",
       "3  1167.98 < monetary_dnn <= 2423.27  -559.371108\n",
       "4                cnt_returns <= 0.00  -501.781362"
      ]
     },
     "execution_count": 10,
     "metadata": {},
     "output_type": "execute_result"
    }
   ],
   "source": [
    "mod_df"
   ]
  },
  {
   "cell_type": "code",
   "execution_count": 14,
   "metadata": {},
   "outputs": [
    {
     "name": "stdout",
     "output_type": "stream",
     "text": [
      "Intercept 2859.7952306099787\n",
      "Prediction_local [2062.08399]\n",
      "Right: 2603.36328125\n",
      "Intercept 7393.896245742169\n",
      "Prediction_local [25854.30042216]\n",
      "Right: 7457.65478515625\n",
      "Intercept 5652.968508861921\n",
      "Prediction_local [843.32090619]\n",
      "Right: -469.25927734375\n",
      "Intercept 6287.8629423421535\n",
      "Prediction_local [4908.61255091]\n",
      "Right: 497.15673828125\n",
      "Intercept 3709.5847428260413\n",
      "Prediction_local [3591.93857192]\n",
      "Right: 3507.704345703125\n"
     ]
    }
   ],
   "source": [
    "text_explanations = explainer.explain_model()"
   ]
  },
  {
   "cell_type": "code",
   "execution_count": 15,
   "metadata": {},
   "outputs": [
    {
     "data": {
      "text/plain": [
       "[[('frequency_dnn > 83.00', 20175.19405858082),\n",
       "  ('recency > 331.00', -16796.47249640443),\n",
       "  ('T > 334.00', 11735.970951304182),\n",
       "  ('28.37 < avg_basket_value <= 44.28', 4945.884803533934),\n",
       "  ('cnt_returns <= 0.00', -1600.1731405979951)],\n",
       " [('monetary_dnn <= 1167.98', -3995.6483292516373),\n",
       "  ('9.17 < avg_basket_size <= 14.75', -853.7516528778838),\n",
       "  ('T <= 306.00', 831.4782318299176),\n",
       "  ('has_returned <= 0.00', -516.833502895875),\n",
       "  ('recency <= 291.00', -274.8923494715958)],\n",
       " [('T <= 306.00', 1548.8694092175406),\n",
       "  ('9.17 < avg_basket_size <= 14.75', -1367.9349385875644),\n",
       "  ('291.00 < recency <= 325.00', -1081.753515292896),\n",
       "  ('5.49 < time_between <= 8.22', 708.3515795457837),\n",
       "  ('1167.98 < monetary_dnn <= 2423.27', -605.2437754950245)],\n",
       " [('9.17 < avg_basket_size <= 14.75', 9830.113922440198),\n",
       "  ('time_between > 8.22', -5571.300765861717),\n",
       "  ('T > 334.00', -5254.038365014957),\n",
       "  ('monetary_dnn <= 1167.98', -4143.835425143651),\n",
       "  ('cnt_returns <= 0.00', 3759.810242145079)],\n",
       " [('9.17 < avg_basket_size <= 14.75', 1194.88361654093),\n",
       "  ('52.00 < frequency_dnn <= 83.00', -1144.0613350250655),\n",
       "  ('325.00 < recency <= 331.00', -448.18401717964446),\n",
       "  ('28.37 < avg_basket_value <= 44.28', 369.5316492460123),\n",
       "  ('3.67 < time_between <= 5.49', -89.81608449222144)]]"
      ]
     },
     "execution_count": 15,
     "metadata": {},
     "output_type": "execute_result"
    }
   ],
   "source": [
    "text_explanations"
   ]
  }
 ],
 "metadata": {
  "kernelspec": {
   "display_name": "Python 3",
   "language": "python",
   "name": "python3"
  },
  "language_info": {
   "codemirror_mode": {
    "name": "ipython",
    "version": 3
   },
   "file_extension": ".py",
   "mimetype": "text/x-python",
   "name": "python",
   "nbconvert_exporter": "python",
   "pygments_lexer": "ipython3",
   "version": "3.5.5"
  }
 },
 "nbformat": 4,
 "nbformat_minor": 2
}
