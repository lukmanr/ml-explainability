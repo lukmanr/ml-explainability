{
 "cells": [
  {
   "cell_type": "code",
   "execution_count": 1,
   "metadata": {},
   "outputs": [
    {
     "name": "stderr",
     "output_type": "stream",
     "text": [
      "/usr/local/envs/py2env/lib/python2.7/site-packages/h5py/__init__.py:36: FutureWarning: Conversion of the second argument of issubdtype from `float` to `np.floating` is deprecated. In future, it will be treated as `np.float64 == np.dtype(float).type`.\n",
      "  from ._conv import register_converters as _register_converters\n"
     ]
    }
   ],
   "source": [
    "import warnings\n",
    "import itertools\n",
    "import lime_explainer as limee\n",
    "warnings.filterwarnings(action='ignore')"
   ]
  },
  {
   "cell_type": "code",
   "execution_count": 2,
   "metadata": {},
   "outputs": [],
   "source": [
    "feature_names = ['customer_id', 'monetary_dnn', 'monetary_btyd', 'frequency_dnn',\n",
    "                 'frequency_btyd', 'recency', 'T', 'time_between',\n",
    "                 'avg_basket_value', 'avg_basket_size', 'cnt_returns',\n",
    "                 'has_returned', 'frequency_btyd_clipped', 'monetary_btyd_clipped',\n",
    "                 'target_monetary_clipped', 'target_monetary']"
   ]
  },
  {
   "cell_type": "code",
   "execution_count": 3,
   "metadata": {},
   "outputs": [],
   "source": [
    "explainer = limee.Explainer()"
   ]
  },
  {
   "cell_type": "code",
   "execution_count": 4,
   "metadata": {},
   "outputs": [],
   "source": [
    "explainer.load_data(\n",
    "  gcs_path = 'gs://ml-clv-data/model_data.csv',\n",
    "  features_to_use = [1,3,5,6,7,8,9,10,11],\n",
    "  feature_names = feature_names,\n",
    "  categorical_features = [],\n",
    "  skip_rows=1\n",
    ")"
   ]
  },
  {
   "cell_type": "code",
   "execution_count": 5,
   "metadata": {},
   "outputs": [],
   "source": [
    "explainer.create_cmle_client(\n",
    "  gcp_project = 'ml-clv',\n",
    "  gcp_model = 'dnn_airflow',\n",
    "  gcp_model_version = 'v1',\n",
    "  output_func = lambda x : x['predicted_monetary'] \n",
    ")"
   ]
  },
  {
   "cell_type": "code",
   "execution_count": 9,
   "metadata": {},
   "outputs": [
    {
     "name": "stdout",
     "output_type": "stream",
     "text": [
      "Intercept 4036.5422424835433\n",
      "Prediction_local [2254.77946306]\n",
      "Right: 1663.812255859375\n",
      "[1327.6399999999999, 25.0, 256.0, 256.0, 10.24, 53.11, 31.52, 0.0, 0.0]\n",
      "                      representation       weight\n",
      "0                time_between > 8.22  4019.660974\n",
      "1                        T <= 306.00 -2883.262950\n",
      "2  1167.98 < monetary_dnn <= 2423.27 -2604.674506\n",
      "3  44.28 < avg_basket_value <= 66.77 -1170.945605\n",
      "4               has_returned <= 0.00   857.459308\n"
     ]
    }
   ],
   "source": [
    "record, df = explainer.explain_random_record(numeric_rows=[1,2,3,7,8])\n",
    "print(record)\n",
    "print(df)"
   ]
  },
  {
   "cell_type": "code",
   "execution_count": 12,
   "metadata": {},
   "outputs": [
    {
     "name": "stdout",
     "output_type": "stream",
     "text": [
      "Mod Record: 2000,25.0,256.0,256.0,10.24,53.11,31.52,0.0,0.0\n",
      "\n",
      "\n",
      "Intercept 12188.809896528408\n",
      "Prediction_local [3172.30544845]\n",
      "Right: 2114.13818359375\n"
     ]
    },
    {
     "data": {
      "text/plain": [
       "([2000.0, 25.0, 256.0, 256.0, 10.24, 53.11, 31.52, 0.0, 0.0],\n",
       "                       representation       weight\n",
       " 0                cnt_returns <= 0.00 -7559.267706\n",
       " 1                time_between > 8.22 -4756.648567\n",
       " 2  44.28 < avg_basket_value <= 66.77  4648.972389\n",
       " 3  1167.98 < monetary_dnn <= 2423.27 -3732.087015\n",
       " 4               has_returned <= 0.00  2382.526451)"
      ]
     },
     "execution_count": 12,
     "metadata": {},
     "output_type": "execute_result"
    }
   ],
   "source": [
    "mod_record = ','.join(['2000'] + [str(e) for e in record[1:]])\n",
    "print('Mod Record: {}\\n\\n'.format(mod_record))\n",
    "explainer.explain_record(mod_record)"
   ]
  },
  {
   "cell_type": "code",
   "execution_count": null,
   "metadata": {},
   "outputs": [],
   "source": []
  }
 ],
 "metadata": {
  "kernelspec": {
   "display_name": "Python 2",
   "language": "python",
   "name": "python2"
  },
  "language_info": {
   "codemirror_mode": {
    "name": "ipython",
    "version": 2
   },
   "file_extension": ".py",
   "mimetype": "text/x-python",
   "name": "python",
   "nbconvert_exporter": "python",
   "pygments_lexer": "ipython2",
   "version": "2.7.15"
  }
 },
 "nbformat": 4,
 "nbformat_minor": 2
}
