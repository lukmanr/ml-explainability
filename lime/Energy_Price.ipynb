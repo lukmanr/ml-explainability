{
 "cells": [
  {
   "cell_type": "code",
   "execution_count": 3,
   "metadata": {},
   "outputs": [],
   "source": [
    "import itertools\n",
    "import lime_explainer as lime"
   ]
  },
  {
   "cell_type": "code",
   "execution_count": 4,
   "metadata": {},
   "outputs": [],
   "source": [
    "names = [\n",
    "  'price',\n",
    "  'date_utc',\n",
    "  'day',\n",
    "  'hour',\n",
    "  'prev_week_min',\n",
    "  'prev_week_25th',\n",
    "  'prev_week_50th',\n",
    "  'prev_week_75th',\n",
    "  'prev_week_max'\n",
    "]\n",
    "w_names = [\n",
    "  'temperature',\n",
    "  'wind_speed_100m',\n",
    "  'wind_direction_100m',\n",
    "  'air_density',\n",
    "  'precipitation',\n",
    "  'wind_gust',\n",
    "  'radiation',\n",
    "  'wind_speed',\n",
    "  'wind_direction',\n",
    "  'pressure'\n",
    "]\n",
    "\n",
    "w_names = [ ['loc'+str(i)+\"_\"+n for n in w_names] for i in range(18)]\n",
    "\n",
    "w_names = list(itertools.chain.from_iterable(w_names))\n",
    "feature_names = names + w_names"
   ]
  },
  {
   "cell_type": "code",
   "execution_count": 5,
   "metadata": {},
   "outputs": [],
   "source": [
    "explainer = lime.Explainer(model_type='regression')"
   ]
  },
  {
   "cell_type": "code",
   "execution_count": 6,
   "metadata": {},
   "outputs": [],
   "source": [
    "explainer.load_data(\n",
    "  gcs_path = 'gs://energyforecast/data/csv/MLDataTrain.csv',\n",
    "  target_idx = 0,\n",
    "  features_to_use = range(2,189),\n",
    "  categorical_features = [2,3],\n",
    "  feature_names = feature_names,\n",
    "  skip_first=True,\n",
    "  integer_rows=[]\n",
    ")"
   ]
  },
  {
   "cell_type": "code",
   "execution_count": 7,
   "metadata": {},
   "outputs": [],
   "source": [
    "explainer.create_cmle_client(\n",
    "  gcp_project = 'energy-forecasting',\n",
    "  gcp_model = 'energyforecaster',\n",
    "  gcp_model_version = 'new_energy',\n",
    "  padding = (2,0)\n",
    ")"
   ]
  },
  {
   "cell_type": "code",
   "execution_count": 8,
   "metadata": {},
   "outputs": [
    {
     "name": "stdout",
     "output_type": "stream",
     "text": [
      "Intercept 0.5174112846477084\n",
      "Prediction_local [0.56253181]\n",
      "Right: 0.575685977935791\n"
     ]
    }
   ],
   "source": [
    "record, df = explainer.explain_random_record()"
   ]
  },
  {
   "cell_type": "code",
   "execution_count": 9,
   "metadata": {},
   "outputs": [
    {
     "name": "stdout",
     "output_type": "stream",
     "text": [
      "[1.0, 6.0, 0.44320000000000004, 0.517, 0.6, 0.6409999999999999, 0.7069, 29.2, 4.0, 285.1, 1.1, 0.0, 3.4, 828.8, 3.0, 289.4, 952.6, 32.2, 3.3, 248.8, 1.06, 0.0, 2.9, 849.2, 2.5, 251.8, 931.0, 44.3, 3.3, 243.7, 1.09, 0.0, 3.7, 826.7, 2.9, 246.6, 997.3, 29.8, 4.9, 209.1, 1.17, 0.0, 4.9, 854.3, 4.5, 208.3, 1014.0, 29.3, 2.5, 205.7, 0.98, 0.0, 4.3, 843.5, 1.7, 209.4, 853.4, 43.3, 9.8, 220.7, 1.02, 0.0, 10.7, 852.0, 8.4, 222.2, 926.8, 48.9, 5.2, 224.1, 1.07, 0.0, 7.4, 841.0, 4.3, 227.6, 985.9, 45.9, 6.0, 227.1, 1.1, 0.0, 5.9, 840.8, 4.8, 232.2, 1010.5, 34.7, 6.3, 225.0, 1.03, 0.0, 8.9, 829.3, 4.8, 230.0, 911.3, 36.8, 10.0, 207.2, 0.99, 0.0, 11.0, 846.7, 8.1, 206.7, 881.8, 51.3, 5.9, 210.9, 1.01, 0.0, 6.6, 847.6, 5.2, 211.4, 943.6, 40.6, 4.5, 164.7, 0.99, 0.0, 5.3, 865.6, 3.8, 167.7, 891.0, 34.7, 3.2, 141.9, 1.07, 0.0, 4.5, 811.8, 2.6, 134.9, 943.3, 38.4, 8.9, 227.7, 0.99, 0.0, 8.3, 807.2, 7.2, 228.5, 884.6, 44.7, 8.7, 162.5, 1.03, 0.0, 7.0, 855.2, 7.3, 160.7, 939.5, 50.0, 7.2, 63.5, 1.07, 0.0, 7.2, 844.5, 6.1, 67.0, 991.9, 31.6, 1.8, 262.6, 1.01, 0.0, 6.1, 823.7, 1.2, 277.5, 884.7, 31.6, 1.8, 262.6, 1.01, 0.0, 6.1, 823.7, 1.2, 277.5, 884.7]\n"
     ]
    }
   ],
   "source": [
    "print(record)"
   ]
  },
  {
   "cell_type": "code",
   "execution_count": 10,
   "metadata": {},
   "outputs": [
    {
     "data": {
      "text/html": [
       "<div>\n",
       "<style scoped>\n",
       "    .dataframe tbody tr th:only-of-type {\n",
       "        vertical-align: middle;\n",
       "    }\n",
       "\n",
       "    .dataframe tbody tr th {\n",
       "        vertical-align: top;\n",
       "    }\n",
       "\n",
       "    .dataframe thead th {\n",
       "        text-align: right;\n",
       "    }\n",
       "</style>\n",
       "<table border=\"1\" class=\"dataframe\">\n",
       "  <thead>\n",
       "    <tr style=\"text-align: right;\">\n",
       "      <th></th>\n",
       "      <th>representation</th>\n",
       "      <th>weight</th>\n",
       "    </tr>\n",
       "  </thead>\n",
       "  <tbody>\n",
       "    <tr>\n",
       "      <th>0</th>\n",
       "      <td>2.80 &lt; loc4_wind_gust &lt;= 4.40</td>\n",
       "      <td>0.043878</td>\n",
       "    </tr>\n",
       "    <tr>\n",
       "      <th>1</th>\n",
       "      <td>loc17_wind_gust &gt; 3.90</td>\n",
       "      <td>-0.028451</td>\n",
       "    </tr>\n",
       "    <tr>\n",
       "      <th>2</th>\n",
       "      <td>loc2_radiation &gt; 473.12</td>\n",
       "      <td>0.025402</td>\n",
       "    </tr>\n",
       "    <tr>\n",
       "      <th>3</th>\n",
       "      <td>loc12_precipitation &lt;= 0.00</td>\n",
       "      <td>0.004669</td>\n",
       "    </tr>\n",
       "    <tr>\n",
       "      <th>4</th>\n",
       "      <td>loc3_air_density &lt;= 1.20</td>\n",
       "      <td>-0.000378</td>\n",
       "    </tr>\n",
       "  </tbody>\n",
       "</table>\n",
       "</div>"
      ],
      "text/plain": [
       "                  representation    weight\n",
       "0  2.80 < loc4_wind_gust <= 4.40  0.043878\n",
       "1         loc17_wind_gust > 3.90 -0.028451\n",
       "2        loc2_radiation > 473.12  0.025402\n",
       "3    loc12_precipitation <= 0.00  0.004669\n",
       "4       loc3_air_density <= 1.20 -0.000378"
      ]
     },
     "execution_count": 10,
     "metadata": {},
     "output_type": "execute_result"
    }
   ],
   "source": [
    "df"
   ]
  },
  {
   "cell_type": "code",
   "execution_count": 11,
   "metadata": {},
   "outputs": [
    {
     "name": "stdout",
     "output_type": "stream",
     "text": [
      "Mod Record: 5,12,0.44320000000000004,0.517,0.6,0.6409999999999999,0.7069,29.2,4.0,285.1,1.1,0.0,3.4,828.8,3.0,289.4,952.6,32.2,3.3,248.8,1.06,0.0,2.9,849.2,2.5,251.8,931.0,44.3,3.3,243.7,1.09,0.0,3.7,826.7,2.9,246.6,997.3,29.8,4.9,209.1,1.17,0.0,4.9,854.3,4.5,208.3,1014.0,29.3,2.5,205.7,0.98,0.0,4.3,843.5,1.7,209.4,853.4,43.3,9.8,220.7,1.02,0.0,10.7,852.0,8.4,222.2,926.8,48.9,5.2,224.1,1.07,0.0,7.4,841.0,4.3,227.6,985.9,45.9,6.0,227.1,1.1,0.0,5.9,840.8,4.8,232.2,1010.5,34.7,6.3,225.0,1.03,0.0,8.9,829.3,4.8,230.0,911.3,36.8,10.0,207.2,0.99,0.0,11.0,846.7,8.1,206.7,881.8,51.3,5.9,210.9,1.01,0.0,6.6,847.6,5.2,211.4,943.6,40.6,4.5,164.7,0.99,0.0,5.3,865.6,3.8,167.7,891.0,34.7,3.2,141.9,1.07,0.0,4.5,811.8,2.6,134.9,943.3,38.4,8.9,227.7,0.99,0.0,8.3,807.2,7.2,228.5,884.6,44.7,8.7,162.5,1.03,0.0,7.0,855.2,7.3,160.7,939.5,50.0,7.2,63.5,1.07,0.0,7.2,844.5,6.1,67.0,991.9,31.6,1.8,262.6,1.01,0.0,6.1,823.7,1.2,277.5,884.7,31.6,1.8,262.6,1.01,0.0,6.1,823.7,1.2,277.5,884.7\n",
      "\n",
      "\n",
      "Intercept 0.4557704979685893\n",
      "Prediction_local [0.55359486]\n",
      "Right: 0.5698289275169373\n"
     ]
    }
   ],
   "source": [
    "mod_record = ','.join(['5','12'] + [str(e) for e in record[2:]])\n",
    "print('Mod Record: {}\\n\\n'.format(mod_record))\n",
    "_, mod_df = explainer.explain_record(mod_record)"
   ]
  },
  {
   "cell_type": "code",
   "execution_count": 12,
   "metadata": {},
   "outputs": [
    {
     "data": {
      "text/html": [
       "<div>\n",
       "<style scoped>\n",
       "    .dataframe tbody tr th:only-of-type {\n",
       "        vertical-align: middle;\n",
       "    }\n",
       "\n",
       "    .dataframe tbody tr th {\n",
       "        vertical-align: top;\n",
       "    }\n",
       "\n",
       "    .dataframe thead th {\n",
       "        text-align: right;\n",
       "    }\n",
       "</style>\n",
       "<table border=\"1\" class=\"dataframe\">\n",
       "  <thead>\n",
       "    <tr style=\"text-align: right;\">\n",
       "      <th></th>\n",
       "      <th>representation</th>\n",
       "      <th>weight</th>\n",
       "    </tr>\n",
       "  </thead>\n",
       "  <tbody>\n",
       "    <tr>\n",
       "      <th>0</th>\n",
       "      <td>loc9_air_density &lt;= 1.05</td>\n",
       "      <td>0.034483</td>\n",
       "    </tr>\n",
       "    <tr>\n",
       "      <th>1</th>\n",
       "      <td>929.10 &lt; loc1_pressure &lt;= 931.50</td>\n",
       "      <td>0.023670</td>\n",
       "    </tr>\n",
       "    <tr>\n",
       "      <th>2</th>\n",
       "      <td>prev_week_25th &gt; 0.49</td>\n",
       "      <td>0.017713</td>\n",
       "    </tr>\n",
       "    <tr>\n",
       "      <th>3</th>\n",
       "      <td>loc5_precipitation &lt;= 0.00</td>\n",
       "      <td>0.012068</td>\n",
       "    </tr>\n",
       "    <tr>\n",
       "      <th>4</th>\n",
       "      <td>941.27 &lt; loc10_pressure &lt;= 943.70</td>\n",
       "      <td>0.009891</td>\n",
       "    </tr>\n",
       "  </tbody>\n",
       "</table>\n",
       "</div>"
      ],
      "text/plain": [
       "                      representation    weight\n",
       "0           loc9_air_density <= 1.05  0.034483\n",
       "1   929.10 < loc1_pressure <= 931.50  0.023670\n",
       "2              prev_week_25th > 0.49  0.017713\n",
       "3         loc5_precipitation <= 0.00  0.012068\n",
       "4  941.27 < loc10_pressure <= 943.70  0.009891"
      ]
     },
     "execution_count": 12,
     "metadata": {},
     "output_type": "execute_result"
    }
   ],
   "source": [
    "mod_df"
   ]
  },
  {
   "cell_type": "code",
   "execution_count": 13,
   "metadata": {},
   "outputs": [
    {
     "name": "stdout",
     "output_type": "stream",
     "text": [
      "Intercept 0.5138182366793298\n",
      "Prediction_local [0.44965706]\n",
      "Right: 0.4278600215911865\n",
      "Intercept 0.5270374182415\n",
      "Prediction_local [0.38819119]\n",
      "Right: 0.33764752745628357\n",
      "Intercept 0.5438415988516622\n",
      "Prediction_local [0.42794255]\n",
      "Right: 0.4092845320701599\n",
      "Intercept 0.5002159958963835\n",
      "Prediction_local [0.59535508]\n",
      "Right: 0.6190247535705566\n",
      "Intercept 0.46202472585644416\n",
      "Prediction_local [0.45313694]\n",
      "Right: 0.4216153919696808\n"
     ]
    },
    {
     "data": {
      "text/plain": [
       "[[('prev_week_50th <= 0.45', -0.07625936318367244),\n",
       "  ('88.50 < loc2_radiation <= 473.12', 0.039975791852310365),\n",
       "  ('1.09 < loc16_air_density <= 1.12', 0.02615280555526107),\n",
       "  ('loc5_precipitation <= 0.00', 0.01981780327905437),\n",
       "  ('loc14_precipitation <= 0.00', -0.01857481945179395)],\n",
       " [('day=0', -0.05179403300297597),\n",
       "  ('0.65 < prev_week_max <= 0.69', -0.05054366099387933),\n",
       "  ('loc0_temperature > 15.90', -0.03711332952280304),\n",
       "  ('loc12_pressure <= 941.18', 0.008245175174062662),\n",
       "  ('101.00 < loc6_radiation <= 495.25', -0.007640381445741393)],\n",
       " [('loc6_wind_direction > 276.90', -0.040529810155231986),\n",
       "  ('loc11_wind_gust > 3.60', -0.030148437533964314),\n",
       "  ('loc11_wind_speed_100m > 4.00', -0.02583698316663189),\n",
       "  ('6.60 < loc0_temperature <= 11.00', -0.012743165163056755),\n",
       "  ('loc11_air_density > 1.10', -0.0066406575377021)],\n",
       " [('6.60 < loc14_wind_gust <= 9.50', 0.04462647831068589),\n",
       "  ('924.70 < loc5_pressure <= 927.30', 0.02356861482991265),\n",
       "  ('1.80 < loc4_wind_gust <= 2.80', 0.022721938602599887),\n",
       "  ('3.10 < loc1_wind_speed_100m <= 4.40', 0.0022722622729014234),\n",
       "  ('loc2_wind_speed > 5.00', 0.0019497929145416175)],\n",
       " [('loc15_wind_speed_100m > 5.70', -0.04983082560102209),\n",
       "  ('2.30 < loc2_wind_speed <= 3.50', -0.02163536182255219),\n",
       "  ('loc10_wind_speed <= 1.90', 0.009081789575463177),\n",
       "  ('1.80 < loc6_wind_speed <= 2.70', -0.0023759812520926103),\n",
       "  ('loc7_pressure <= 1011.10', 0.0005992014481176633)]]"
      ]
     },
     "execution_count": 13,
     "metadata": {},
     "output_type": "execute_result"
    }
   ],
   "source": [
    "explainer.explain_model()"
   ]
  }
 ],
 "metadata": {
  "kernelspec": {
   "display_name": "Python 3",
   "language": "python",
   "name": "python3"
  },
  "language_info": {
   "codemirror_mode": {
    "name": "ipython",
    "version": 3
   },
   "file_extension": ".py",
   "mimetype": "text/x-python",
   "name": "python",
   "nbconvert_exporter": "python",
   "pygments_lexer": "ipython3",
   "version": "3.5.5"
  }
 },
 "nbformat": 4,
 "nbformat_minor": 2
}
