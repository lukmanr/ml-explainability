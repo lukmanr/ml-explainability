{
 "cells": [
  {
   "cell_type": "code",
   "execution_count": 1,
   "metadata": {},
   "outputs": [
    {
     "name": "stderr",
     "output_type": "stream",
     "text": [
      "/usr/local/envs/py3env/lib/python3.5/site-packages/h5py/__init__.py:36: FutureWarning: Conversion of the second argument of issubdtype from `float` to `np.floating` is deprecated. In future, it will be treated as `np.float64 == np.dtype(float).type`.\n",
      "  from ._conv import register_converters as _register_converters\n"
     ]
    }
   ],
   "source": [
    "import itertools\n",
    "import lime_explainer as lime"
   ]
  },
  {
   "cell_type": "code",
   "execution_count": 2,
   "metadata": {},
   "outputs": [],
   "source": [
    "names = [\n",
    "  'price',\n",
    "  'date_utc',\n",
    "  'day',\n",
    "  'hour',\n",
    "  'prev_week_min',\n",
    "  'prev_week_25th',\n",
    "  'prev_week_50th',\n",
    "  'prev_week_75th',\n",
    "  'prev_week_max'\n",
    "]\n",
    "w_names = [\n",
    "  'temperature',\n",
    "  'wind_speed_100m',\n",
    "  'wind_direction_100m',\n",
    "  'air_density',\n",
    "  'precipitation',\n",
    "  'wind_gust',\n",
    "  'radiation',\n",
    "  'wind_speed',\n",
    "  'wind_direction',\n",
    "  'pressure'\n",
    "]\n",
    "\n",
    "w_names = [ ['loc'+str(i)+\"_\"+n for n in w_names] for i in range(18)]\n",
    "\n",
    "w_names = list(itertools.chain.from_iterable(w_names))\n",
    "feature_names = names + w_names"
   ]
  },
  {
   "cell_type": "code",
   "execution_count": 3,
   "metadata": {},
   "outputs": [],
   "source": [
    "explainer = lime.Explainer(model_type='regression')"
   ]
  },
  {
   "cell_type": "code",
   "execution_count": 4,
   "metadata": {},
   "outputs": [],
   "source": [
    "explainer.load_data(\n",
    "  gcs_path = 'gs://energyforecast/data/csv/MLDataTrain.csv',\n",
    "  target_idx = 0,\n",
    "  features_to_use = range(2,189),\n",
    "  categorical_features = [2,3],\n",
    "  feature_names = feature_names,\n",
    "  skip_first=True\n",
    ")"
   ]
  },
  {
   "cell_type": "code",
   "execution_count": 5,
   "metadata": {},
   "outputs": [],
   "source": [
    "explainer.create_cmle_client(\n",
    "  gcp_project = 'energy-forecasting',\n",
    "  gcp_model = 'energyforecaster',\n",
    "  gcp_model_version = 'new_energy',\n",
    "  padding = (2,0)\n",
    ")"
   ]
  },
  {
   "cell_type": "code",
   "execution_count": 6,
   "metadata": {},
   "outputs": [
    {
     "name": "stdout",
     "output_type": "stream",
     "text": [
      "Intercept 0.5055876368704718\n",
      "Prediction_local [0.41062113]\n",
      "Right: 0.3514913022518158\n"
     ]
    }
   ],
   "source": [
    "record, df = explainer.explain_random_record(numeric_rows=[])"
   ]
  },
  {
   "cell_type": "code",
   "execution_count": 7,
   "metadata": {},
   "outputs": [
    {
     "name": "stdout",
     "output_type": "stream",
     "text": [
      "[5.0, 1.0, 0.2687, 0.371, 0.4843, 0.5788000000000001, 0.6709999999999999, 10.0, 7.8, 198.2, 1.17, 0.0, 12.2, 0.0, 3.0, 189.4, 948.7, 10.7, 5.3, 220.1, 1.14, 0.0, 9.3, 0.0, 2.6, 214.1, 929.3, 14.6, 7.8, 232.2, 1.21, 0.0, 9.5, 0.0, 4.2, 228.8, 1001.0, 16.6, 4.6, 263.7, 1.23, 0.0, 5.2, 0.0, 3.5, 262.7, 1018.9, 4.7, 5.0, 217.9, 1.06, 0.0, 3.7, 0.0, 2.8, 213.6, 846.6, 8.7, 8.5, 249.4, 1.14, 0.0, 9.6, 0.0, 4.6, 242.3, 926.0, 13.0, 6.8, 254.5, 1.21, 0.0, 7.5, 0.0, 3.3, 249.8, 990.9, 13.8, 5.2, 218.8, 1.24, 0.0, 4.4, 0.0, 2.6, 202.7, 1017.6, 8.0, 7.8, 213.5, 1.12, 0.0, 4.9, 0.0, 4.1, 206.8, 906.3, 4.5, 3.3, 279.1, 1.1, 0.0, 2.5, 0.0, 1.8, 280.6, 878.3, 11.5, 8.9, 251.1, 1.16, 0.0, 8.8, 0.0, 4.5, 243.6, 944.9, 9.2, 2.5, 257.0, 1.1, 0.0, 2.3, 0.0, 1.6, 259.7, 890.5, 10.5, 7.2, 170.1, 1.15, 0.0, 5.8, 0.0, 4.5, 177.1, 938.9, 12.1, 12.6, 211.3, 1.08, 0.0, 15.5, 0.0, 7.1, 208.4, 880.3, 15.1, 8.9, 233.6, 1.14, 0.0, 9.9, 0.0, 4.3, 223.4, 939.2, 17.4, 2.1, 245.7, 1.19, 0.0, 1.6, 0.0, 1.4, 234.5, 992.2, 11.6, 9.2, 174.8, 1.07, 0.0, 9.7, 0.0, 4.9, 174.2, 877.5, 11.6, 9.2, 174.8, 1.07, 0.0, 9.7, 0.0, 4.9, 174.2, 877.5]\n"
     ]
    }
   ],
   "source": [
    "print(record)"
   ]
  },
  {
   "cell_type": "code",
   "execution_count": 8,
   "metadata": {},
   "outputs": [
    {
     "data": {
      "text/html": [
       "<div>\n",
       "<style scoped>\n",
       "    .dataframe tbody tr th:only-of-type {\n",
       "        vertical-align: middle;\n",
       "    }\n",
       "\n",
       "    .dataframe tbody tr th {\n",
       "        vertical-align: top;\n",
       "    }\n",
       "\n",
       "    .dataframe thead th {\n",
       "        text-align: right;\n",
       "    }\n",
       "</style>\n",
       "<table border=\"1\" class=\"dataframe\">\n",
       "  <thead>\n",
       "    <tr style=\"text-align: right;\">\n",
       "      <th></th>\n",
       "      <th>representation</th>\n",
       "      <th>weight</th>\n",
       "    </tr>\n",
       "  </thead>\n",
       "  <tbody>\n",
       "    <tr>\n",
       "      <th>0</th>\n",
       "      <td>0.37 &lt; prev_week_25th &lt;= 0.41</td>\n",
       "      <td>-0.059130</td>\n",
       "    </tr>\n",
       "    <tr>\n",
       "      <th>1</th>\n",
       "      <td>loc4_wind_speed_100m &gt; 4.40</td>\n",
       "      <td>-0.032551</td>\n",
       "    </tr>\n",
       "    <tr>\n",
       "      <th>2</th>\n",
       "      <td>1.04 &lt; loc4_air_density &lt;= 1.06</td>\n",
       "      <td>-0.022685</td>\n",
       "    </tr>\n",
       "    <tr>\n",
       "      <th>3</th>\n",
       "      <td>11.50 &lt; loc2_temperature &lt;= 16.90</td>\n",
       "      <td>0.019015</td>\n",
       "    </tr>\n",
       "    <tr>\n",
       "      <th>4</th>\n",
       "      <td>238.30 &lt; loc10_wind_direction &lt;= 262.40</td>\n",
       "      <td>0.000384</td>\n",
       "    </tr>\n",
       "  </tbody>\n",
       "</table>\n",
       "</div>"
      ],
      "text/plain": [
       "                            representation    weight\n",
       "0            0.37 < prev_week_25th <= 0.41 -0.059130\n",
       "1              loc4_wind_speed_100m > 4.40 -0.032551\n",
       "2          1.04 < loc4_air_density <= 1.06 -0.022685\n",
       "3        11.50 < loc2_temperature <= 16.90  0.019015\n",
       "4  238.30 < loc10_wind_direction <= 262.40  0.000384"
      ]
     },
     "execution_count": 8,
     "metadata": {},
     "output_type": "execute_result"
    }
   ],
   "source": [
    "df"
   ]
  },
  {
   "cell_type": "code",
   "execution_count": 9,
   "metadata": {},
   "outputs": [
    {
     "name": "stdout",
     "output_type": "stream",
     "text": [
      "Mod Record: 5,12,0.2687,0.371,0.4843,0.5788000000000001,0.6709999999999999,10.0,7.8,198.2,1.17,0.0,12.2,0.0,3.0,189.4,948.7,10.7,5.3,220.1,1.14,0.0,9.3,0.0,2.6,214.1,929.3,14.6,7.8,232.2,1.21,0.0,9.5,0.0,4.2,228.8,1001.0,16.6,4.6,263.7,1.23,0.0,5.2,0.0,3.5,262.7,1018.9,4.7,5.0,217.9,1.06,0.0,3.7,0.0,2.8,213.6,846.6,8.7,8.5,249.4,1.14,0.0,9.6,0.0,4.6,242.3,926.0,13.0,6.8,254.5,1.21,0.0,7.5,0.0,3.3,249.8,990.9,13.8,5.2,218.8,1.24,0.0,4.4,0.0,2.6,202.7,1017.6,8.0,7.8,213.5,1.12,0.0,4.9,0.0,4.1,206.8,906.3,4.5,3.3,279.1,1.1,0.0,2.5,0.0,1.8,280.6,878.3,11.5,8.9,251.1,1.16,0.0,8.8,0.0,4.5,243.6,944.9,9.2,2.5,257.0,1.1,0.0,2.3,0.0,1.6,259.7,890.5,10.5,7.2,170.1,1.15,0.0,5.8,0.0,4.5,177.1,938.9,12.1,12.6,211.3,1.08,0.0,15.5,0.0,7.1,208.4,880.3,15.1,8.9,233.6,1.14,0.0,9.9,0.0,4.3,223.4,939.2,17.4,2.1,245.7,1.19,0.0,1.6,0.0,1.4,234.5,992.2,11.6,9.2,174.8,1.07,0.0,9.7,0.0,4.9,174.2,877.5,11.6,9.2,174.8,1.07,0.0,9.7,0.0,4.9,174.2,877.5\n",
      "\n",
      "\n",
      "Intercept 0.5238604343961857\n",
      "Prediction_local [0.3916833]\n",
      "Right: 0.3472396433353424\n"
     ]
    }
   ],
   "source": [
    "mod_record = ','.join(['5','12'] + [str(e) for e in record[2:]])\n",
    "print('Mod Record: {}\\n\\n'.format(mod_record))\n",
    "_, mod_df = explainer.explain_record(mod_record)"
   ]
  },
  {
   "cell_type": "code",
   "execution_count": 10,
   "metadata": {},
   "outputs": [
    {
     "data": {
      "text/html": [
       "<div>\n",
       "<style scoped>\n",
       "    .dataframe tbody tr th:only-of-type {\n",
       "        vertical-align: middle;\n",
       "    }\n",
       "\n",
       "    .dataframe tbody tr th {\n",
       "        vertical-align: top;\n",
       "    }\n",
       "\n",
       "    .dataframe thead th {\n",
       "        text-align: right;\n",
       "    }\n",
       "</style>\n",
       "<table border=\"1\" class=\"dataframe\">\n",
       "  <thead>\n",
       "    <tr style=\"text-align: right;\">\n",
       "      <th></th>\n",
       "      <th>representation</th>\n",
       "      <th>weight</th>\n",
       "    </tr>\n",
       "  </thead>\n",
       "  <tbody>\n",
       "    <tr>\n",
       "      <th>0</th>\n",
       "      <td>90.47 &lt; loc1_wind_direction_100m &lt;= 239.30</td>\n",
       "      <td>-0.054155</td>\n",
       "    </tr>\n",
       "    <tr>\n",
       "      <th>1</th>\n",
       "      <td>6.60 &lt; loc0_temperature &lt;= 11.00</td>\n",
       "      <td>-0.044444</td>\n",
       "    </tr>\n",
       "    <tr>\n",
       "      <th>2</th>\n",
       "      <td>88.38 &lt; loc1_wind_direction &lt;= 234.50</td>\n",
       "      <td>-0.029648</td>\n",
       "    </tr>\n",
       "    <tr>\n",
       "      <th>3</th>\n",
       "      <td>1.20 &lt; loc2_air_density &lt;= 1.23</td>\n",
       "      <td>-0.023052</td>\n",
       "    </tr>\n",
       "    <tr>\n",
       "      <th>4</th>\n",
       "      <td>loc0_radiation &lt;= 0.00</td>\n",
       "      <td>0.019121</td>\n",
       "    </tr>\n",
       "  </tbody>\n",
       "</table>\n",
       "</div>"
      ],
      "text/plain": [
       "                               representation    weight\n",
       "0  90.47 < loc1_wind_direction_100m <= 239.30 -0.054155\n",
       "1            6.60 < loc0_temperature <= 11.00 -0.044444\n",
       "2       88.38 < loc1_wind_direction <= 234.50 -0.029648\n",
       "3             1.20 < loc2_air_density <= 1.23 -0.023052\n",
       "4                      loc0_radiation <= 0.00  0.019121"
      ]
     },
     "execution_count": 10,
     "metadata": {},
     "output_type": "execute_result"
    }
   ],
   "source": [
    "mod_df"
   ]
  }
 ],
 "metadata": {
  "kernelspec": {
   "display_name": "Python 3",
   "language": "python",
   "name": "python3"
  },
  "language_info": {
   "codemirror_mode": {
    "name": "ipython",
    "version": 3
   },
   "file_extension": ".py",
   "mimetype": "text/x-python",
   "name": "python",
   "nbconvert_exporter": "python",
   "pygments_lexer": "ipython3",
   "version": "3.5.5"
  }
 },
 "nbformat": 4,
 "nbformat_minor": 2
}
