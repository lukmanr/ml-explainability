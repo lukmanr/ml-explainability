{
 "cells": [
  {
   "cell_type": "code",
   "execution_count": 1,
   "metadata": {},
   "outputs": [
    {
     "name": "stderr",
     "output_type": "stream",
     "text": [
      "/usr/local/envs/py3env/lib/python3.5/site-packages/h5py/__init__.py:36: FutureWarning: Conversion of the second argument of issubdtype from `float` to `np.floating` is deprecated. In future, it will be treated as `np.float64 == np.dtype(float).type`.\n",
      "  from ._conv import register_converters as _register_converters\n"
     ]
    }
   ],
   "source": [
    "import itertools\n",
    "import lime_explainer as lime"
   ]
  },
  {
   "cell_type": "code",
   "execution_count": 2,
   "metadata": {},
   "outputs": [],
   "source": [
    "feature_names = ['customer_id', 'monetary_dnn', 'monetary_btyd', 'frequency_dnn',\n",
    "                 'frequency_btyd', 'recency', 'T', 'time_between',\n",
    "                 'avg_basket_value', 'avg_basket_size', 'cnt_returns',\n",
    "                 'has_returned', 'frequency_btyd_clipped', 'monetary_btyd_clipped',\n",
    "                 'target_monetary_clipped', 'target_monetary']"
   ]
  },
  {
   "cell_type": "code",
   "execution_count": 3,
   "metadata": {},
   "outputs": [],
   "source": [
    "explainer = lime.Explainer()"
   ]
  },
  {
   "cell_type": "code",
   "execution_count": 5,
   "metadata": {},
   "outputs": [],
   "source": [
    "explainer.load_data(\n",
    "  gcs_path = 'gs://ml-clv-data/model_data.csv',\n",
    "  features_to_use = [1,3,5,6,7,8,9,10,11],\n",
    "  feature_names = feature_names,\n",
    "  target_idx = 15,\n",
    "  skip_first=True \n",
    ")"
   ]
  },
  {
   "cell_type": "code",
   "execution_count": 6,
   "metadata": {},
   "outputs": [],
   "source": [
    "explainer.create_cmle_client(\n",
    "  gcp_project = 'ml-clv',\n",
    "  gcp_model = 'dnn_airflow',\n",
    "  gcp_model_version = 'v1',\n",
    "  output_func = lambda x : x['predicted_monetary'] \n",
    ")"
   ]
  },
  {
   "cell_type": "code",
   "execution_count": 7,
   "metadata": {},
   "outputs": [
    {
     "name": "stdout",
     "output_type": "stream",
     "text": [
      "Intercept 7943.551373809409\n",
      "Prediction_local [6636.29646203]\n",
      "Right: 5343.44189453125\n",
      "[4025.64, 44.0, 256.0, 256.0, 5.82, 91.49, 40.73, 0.0, 0.0]\n"
     ]
    },
    {
     "data": {
      "text/html": [
       "<div>\n",
       "<style scoped>\n",
       "    .dataframe tbody tr th:only-of-type {\n",
       "        vertical-align: middle;\n",
       "    }\n",
       "\n",
       "    .dataframe tbody tr th {\n",
       "        vertical-align: top;\n",
       "    }\n",
       "\n",
       "    .dataframe thead th {\n",
       "        text-align: right;\n",
       "    }\n",
       "</style>\n",
       "<table border=\"1\" class=\"dataframe\">\n",
       "  <thead>\n",
       "    <tr style=\"text-align: right;\">\n",
       "      <th></th>\n",
       "      <th>representation</th>\n",
       "      <th>weight</th>\n",
       "    </tr>\n",
       "  </thead>\n",
       "  <tbody>\n",
       "    <tr>\n",
       "      <th>0</th>\n",
       "      <td>has_returned &lt;= 0.00</td>\n",
       "      <td>-7224.636475</td>\n",
       "    </tr>\n",
       "    <tr>\n",
       "      <th>1</th>\n",
       "      <td>recency &lt;= 291.00</td>\n",
       "      <td>3778.620757</td>\n",
       "    </tr>\n",
       "    <tr>\n",
       "      <th>2</th>\n",
       "      <td>cnt_returns &lt;= 0.00</td>\n",
       "      <td>2153.161151</td>\n",
       "    </tr>\n",
       "    <tr>\n",
       "      <th>3</th>\n",
       "      <td>29.00 &lt; frequency_dnn &lt;= 52.00</td>\n",
       "      <td>-377.203222</td>\n",
       "    </tr>\n",
       "    <tr>\n",
       "      <th>4</th>\n",
       "      <td>2423.27 &lt; monetary_dnn &lt;= 4087.26</td>\n",
       "      <td>362.802878</td>\n",
       "    </tr>\n",
       "  </tbody>\n",
       "</table>\n",
       "</div>"
      ],
      "text/plain": [
       "                      representation       weight\n",
       "0               has_returned <= 0.00 -7224.636475\n",
       "1                  recency <= 291.00  3778.620757\n",
       "2                cnt_returns <= 0.00  2153.161151\n",
       "3     29.00 < frequency_dnn <= 52.00  -377.203222\n",
       "4  2423.27 < monetary_dnn <= 4087.26   362.802878"
      ]
     },
     "execution_count": 7,
     "metadata": {},
     "output_type": "execute_result"
    }
   ],
   "source": [
    "record, df = explainer.explain_random_record(numeric_rows=[1,2,3,7,8])\n",
    "print(record)\n",
    "df"
   ]
  },
  {
   "cell_type": "code",
   "execution_count": 8,
   "metadata": {},
   "outputs": [
    {
     "name": "stdout",
     "output_type": "stream",
     "text": [
      "Mod Record: 2000,44.0,256.0,256.0,5.82,91.49,40.73,0.0,0.0\n",
      "\n",
      "\n",
      "Intercept 5729.9626205278055\n",
      "Prediction_local [2220.78516684]\n",
      "Right: 1979.90869140625\n"
     ]
    },
    {
     "data": {
      "text/html": [
       "<div>\n",
       "<style scoped>\n",
       "    .dataframe tbody tr th:only-of-type {\n",
       "        vertical-align: middle;\n",
       "    }\n",
       "\n",
       "    .dataframe tbody tr th {\n",
       "        vertical-align: top;\n",
       "    }\n",
       "\n",
       "    .dataframe thead th {\n",
       "        text-align: right;\n",
       "    }\n",
       "</style>\n",
       "<table border=\"1\" class=\"dataframe\">\n",
       "  <thead>\n",
       "    <tr style=\"text-align: right;\">\n",
       "      <th></th>\n",
       "      <th>representation</th>\n",
       "      <th>weight</th>\n",
       "    </tr>\n",
       "  </thead>\n",
       "  <tbody>\n",
       "    <tr>\n",
       "      <th>0</th>\n",
       "      <td>cnt_returns &lt;= 0.00</td>\n",
       "      <td>-2028.910105</td>\n",
       "    </tr>\n",
       "    <tr>\n",
       "      <th>1</th>\n",
       "      <td>has_returned &lt;= 0.00</td>\n",
       "      <td>-1276.689719</td>\n",
       "    </tr>\n",
       "    <tr>\n",
       "      <th>2</th>\n",
       "      <td>29.00 &lt; frequency_dnn &lt;= 52.00</td>\n",
       "      <td>739.794669</td>\n",
       "    </tr>\n",
       "    <tr>\n",
       "      <th>3</th>\n",
       "      <td>avg_basket_value &gt; 66.77</td>\n",
       "      <td>-738.071122</td>\n",
       "    </tr>\n",
       "    <tr>\n",
       "      <th>4</th>\n",
       "      <td>T &lt;= 306.00</td>\n",
       "      <td>-205.301176</td>\n",
       "    </tr>\n",
       "  </tbody>\n",
       "</table>\n",
       "</div>"
      ],
      "text/plain": [
       "                   representation       weight\n",
       "0             cnt_returns <= 0.00 -2028.910105\n",
       "1            has_returned <= 0.00 -1276.689719\n",
       "2  29.00 < frequency_dnn <= 52.00   739.794669\n",
       "3        avg_basket_value > 66.77  -738.071122\n",
       "4                     T <= 306.00  -205.301176"
      ]
     },
     "execution_count": 8,
     "metadata": {},
     "output_type": "execute_result"
    }
   ],
   "source": [
    "mod_record = ','.join(['2000'] + [str(e) for e in record[1:]])\n",
    "print('Mod Record: {}\\n\\n'.format(mod_record))\n",
    "_, mod_df = explainer.explain_record(mod_record)\n",
    "mod_df"
   ]
  }
 ],
 "metadata": {
  "kernelspec": {
   "display_name": "Python 3",
   "language": "python",
   "name": "python3"
  },
  "language_info": {
   "codemirror_mode": {
    "name": "ipython",
    "version": 3
   },
   "file_extension": ".py",
   "mimetype": "text/x-python",
   "name": "python",
   "nbconvert_exporter": "python",
   "pygments_lexer": "ipython3",
   "version": "3.5.5"
  }
 },
 "nbformat": 4,
 "nbformat_minor": 2
}
