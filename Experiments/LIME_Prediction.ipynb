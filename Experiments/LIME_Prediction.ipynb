{
 "cells": [
  {
   "cell_type": "code",
   "execution_count": 1,
   "metadata": {},
   "outputs": [],
   "source": [
    "import lime\n",
    "import sklearn\n",
    "import warnings\n",
    "import pandas as pd\n",
    "import numpy as np\n",
    "import lime.lime_tabular\n",
    "import googleapiclient.discovery\n",
    "\n",
    "from google.cloud import storage"
   ]
  },
  {
   "cell_type": "code",
   "execution_count": 2,
   "metadata": {},
   "outputs": [],
   "source": [
    "warnings.filterwarnings(action='ignore', category=DeprecationWarning)"
   ]
  },
  {
   "cell_type": "code",
   "execution_count": 3,
   "metadata": {},
   "outputs": [],
   "source": [
    "storage_client = storage.Client(project='energy-forecasting')\n",
    "bucket = storage_client.get_bucket('energyforecast')\n",
    "blob = bucket.blob('data/csv/MLDataTrain.csv')\n",
    "train =  blob.download_as_string(storage_client).split('\\n')\n",
    "blob = bucket.blob('data/csv/MLDataTest.csv')\n",
    "test =  blob.download_as_string(storage_client).split('\\n')"
   ]
  },
  {
   "cell_type": "code",
   "execution_count": 4,
   "metadata": {},
   "outputs": [],
   "source": [
    "feature_names = train[0].split(\",\")\n",
    "categorical_features = [2, 3]"
   ]
  },
  {
   "cell_type": "code",
   "execution_count": 5,
   "metadata": {},
   "outputs": [],
   "source": [
    "def convert_to_matrix(data):\n",
    "    new_lst = []\n",
    "    for string in data[1:]:\n",
    "        new_lst.append(string.split(','))\n",
    "\n",
    "    df = pd.DataFrame.from_records(new_lst)\n",
    "    df = df.dropna()\n",
    "    df.head()\n",
    "\n",
    "    le = sklearn.preprocessing.LabelEncoder()\n",
    "    df.iloc[:, 1] = le.fit_transform(df.iloc[:, 1])\n",
    "\n",
    "    return (df.values.astype(float), le)"
   ]
  },
  {
   "cell_type": "code",
   "execution_count": 6,
   "metadata": {},
   "outputs": [],
   "source": [
    "train, le = convert_to_matrix(train)\n",
    "test, _ = convert_to_matrix(test)"
   ]
  },
  {
   "cell_type": "code",
   "execution_count": 7,
   "metadata": {},
   "outputs": [],
   "source": [
    "explainer = lime.lime_tabular.LimeTabularExplainer(\n",
    "    train,\n",
    "    feature_names=feature_names,\n",
    "    class_names=['energy'],\n",
    "    categorical_features=categorical_features,\n",
    "    verbose=True,\n",
    "    mode='regression',\n",
    "    )"
   ]
  },
  {
   "cell_type": "code",
   "execution_count": 8,
   "metadata": {},
   "outputs": [],
   "source": [
    "def predict(project, model, record, version=None):\n",
    "    service = googleapiclient.discovery.build('ml', 'v1')\n",
    "    name = 'projects/{}/models/{}'.format(project, model)\n",
    "\n",
    "    if version is not None:\n",
    "        name += '/versions/{}'.format(version)\n",
    "\n",
    "    response = service.projects().predict(\n",
    "        name=name,\n",
    "        body={'instances': record}\n",
    "    ).execute()\n",
    "\n",
    "    if 'error' in response:\n",
    "        raise RuntimeError(response['error'])\n",
    "\n",
    "    return response['predictions']"
   ]
  },
  {
   "cell_type": "code",
   "execution_count": 9,
   "metadata": {},
   "outputs": [],
   "source": [
    "def refine(x):\n",
    "    x = x.split(',')\n",
    "    x[2] = str(int(float(x[2])))\n",
    "    x[3] = str(int(float(x[3])))\n",
    "    return ','.join(x)\n",
    "\n",
    "def transform_row(x):\n",
    "    x = x.astype(str)\n",
    "    x[1] = le.inverse_transform([int(float(x[1]))])[0]\n",
    "    tmp = ','.join(list(x))\n",
    "    refiend_row = refine(tmp)\n",
    "    return refiend_row"
   ]
  },
  {
   "cell_type": "code",
   "execution_count": 10,
   "metadata": {},
   "outputs": [],
   "source": [
    "def lime_predict(rows):\n",
    "    if len(rows.shape) > 1:\n",
    "        predictions = []\n",
    "        for row in rows:\n",
    "            prediction = predict('energy-forecasting',\n",
    "                                 'energyforecaster',\n",
    "                                 transform_row(row), 'new_energy'\n",
    "                                 )[0]['predictions']\n",
    "            predictions.extend(prediction)\n",
    "    else:\n",
    "        predictions = predict('energy-forecasting', 'energyforecaster',\n",
    "                              transform_row(rows), 'new_energy'\n",
    "                              )[0]['predictions']\n",
    "    return np.array(predictions)"
   ]
  },
  {
   "cell_type": "code",
   "execution_count": 11,
   "metadata": {},
   "outputs": [
    {
     "name": "stderr",
     "output_type": "stream",
     "text": [
      "/usr/local/envs/py2env/lib/python2.7/site-packages/scipy/linalg/basic.py:40: RuntimeWarning: scipy.linalg.solve\n",
      "Ill-conditioned matrix detected. Result is not guaranteed to be accurate.\n",
      "Reciprocal condition number/precision: 1.02278981652e-16 / 1.11022302463e-16\n",
      "  RuntimeWarning)\n",
      "/usr/local/envs/py2env/lib/python2.7/site-packages/scipy/linalg/basic.py:40: RuntimeWarning: scipy.linalg.solve\n",
      "Ill-conditioned matrix detected. Result is not guaranteed to be accurate.\n",
      "Reciprocal condition number/precision: 4.95982687778e-18 / 1.11022302463e-16\n",
      "  RuntimeWarning)\n",
      "/usr/local/envs/py2env/lib/python2.7/site-packages/scipy/linalg/basic.py:40: RuntimeWarning: scipy.linalg.solve\n",
      "Ill-conditioned matrix detected. Result is not guaranteed to be accurate.\n",
      "Reciprocal condition number/precision: 1.11381518066e-17 / 1.11022302463e-16\n",
      "  RuntimeWarning)\n"
     ]
    },
    {
     "name": "stdout",
     "output_type": "stream",
     "text": [
      "Intercept 0.5003099639872012\n",
      "Prediction_local [0.53224088]\n",
      "Right: 0.531932532787323\n"
     ]
    }
   ],
   "source": [
    "i = 105\n",
    "exp = explainer.explain_instance(test[i], lime_predict, num_features=5, num_samples=10)"
   ]
  },
  {
   "cell_type": "code",
   "execution_count": null,
   "metadata": {},
   "outputs": [],
   "source": [
    "exp.show_in_notebook(show_table=True)"
   ]
  }
 ],
 "metadata": {
  "kernelspec": {
   "display_name": "Python 2",
   "language": "python",
   "name": "python2"
  },
  "language_info": {
   "codemirror_mode": {
    "name": "ipython",
    "version": 2
   },
   "file_extension": ".py",
   "mimetype": "text/x-python",
   "name": "python",
   "nbconvert_exporter": "python",
   "pygments_lexer": "ipython2",
   "version": "2.7.15"
  }
 },
 "nbformat": 4,
 "nbformat_minor": 2
}
