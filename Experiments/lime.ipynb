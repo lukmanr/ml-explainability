{
 "cells": [
  {
   "cell_type": "code",
   "execution_count": 22,
   "metadata": {},
   "outputs": [],
   "source": [
    "import lime\n",
    "import sklearn\n",
    "import warnings\n",
    "import itertools\n",
    "import numpy as np\n",
    "import pandas as pd\n",
    "import lime.lime_tabular\n",
    "import googleapiclient.discovery\n",
    "\n",
    "from google.cloud import storage"
   ]
  },
  {
   "cell_type": "code",
   "execution_count": 23,
   "metadata": {},
   "outputs": [],
   "source": [
    "warnings.filterwarnings(action='ignore', category=DeprecationWarning)"
   ]
  },
  {
   "cell_type": "code",
   "execution_count": 24,
   "metadata": {},
   "outputs": [],
   "source": [
    "storage_client = storage.Client(project='energy-forecasting')\n",
    "bucket = storage_client.get_bucket('energyforecast')\n",
    "blob = bucket.blob('data/csv/MLDataTrain.csv')\n",
    "train =  blob.download_as_string(storage_client).split('\\n')\n",
    "blob = bucket.blob('data/csv/MLDataTest.csv')\n",
    "test =  blob.download_as_string(storage_client).split('\\n')"
   ]
  },
  {
   "cell_type": "code",
   "execution_count": 25,
   "metadata": {},
   "outputs": [],
   "source": [
    "names = [\n",
    "  'price',\n",
    "  'date_utc',\n",
    "  'day',\n",
    "  'hour',\n",
    "  'prev_week_min',\n",
    "  'prev_week_25th',\n",
    "  'prev_week_50th',\n",
    "  'prev_week_75th',\n",
    "  'prev_week_max'\n",
    "]\n",
    "w_names = [\n",
    "  'temperature',\n",
    "  'wind_speed_100m',\n",
    "  'wind_direction_100m',\n",
    "  'air_density',\n",
    "  'precipitation',\n",
    "  'wind_gust',\n",
    "  'radiation',\n",
    "  'wind_speed',\n",
    "  'wind_direction',\n",
    "  'pressure'\n",
    "]\n",
    "\n",
    "w_names = [ ['loc'+str(i)+\"_\"+n for n in w_names] for i in range(18)]\n",
    "\n",
    "w_names = list(itertools.chain.from_iterable(w_names))\n",
    "\n",
    "feature_names = names + w_names \n",
    "categorical_features = [2, 3]"
   ]
  },
  {
   "cell_type": "code",
   "execution_count": 27,
   "metadata": {},
   "outputs": [],
   "source": [
    "def convert_to_matrix(data):\n",
    "    new_lst = []\n",
    "    for string in data[1:]:\n",
    "        new_lst.append(string.split(','))\n",
    "\n",
    "    df = pd.DataFrame.from_records(new_lst)\n",
    "    df = df.dropna()\n",
    "    df.head()\n",
    "\n",
    "    le = sklearn.preprocessing.LabelEncoder()\n",
    "    df.iloc[:, 1] = le.fit_transform(df.iloc[:, 1])\n",
    "\n",
    "    return (df.values.astype(float), le)"
   ]
  },
  {
   "cell_type": "code",
   "execution_count": 28,
   "metadata": {},
   "outputs": [],
   "source": [
    "train, le = convert_to_matrix(train)\n",
    "test, _ = convert_to_matrix(test)"
   ]
  },
  {
   "cell_type": "code",
   "execution_count": 29,
   "metadata": {},
   "outputs": [],
   "source": [
    "explainer = lime.lime_tabular.LimeTabularExplainer(\n",
    "    train,\n",
    "    feature_names=feature_names,\n",
    "    class_names=['energy'],\n",
    "    categorical_features=categorical_features,\n",
    "    verbose=True,\n",
    "    mode='regression',\n",
    "    )"
   ]
  },
  {
   "cell_type": "code",
   "execution_count": 30,
   "metadata": {},
   "outputs": [],
   "source": [
    "def predict(project, model, record, version=None):\n",
    "    service = googleapiclient.discovery.build('ml', 'v1')\n",
    "    name = 'projects/{}/models/{}'.format(project, model)\n",
    "\n",
    "    if version is not None:\n",
    "        name += '/versions/{}'.format(version)\n",
    "\n",
    "    response = service.projects().predict(\n",
    "        name=name,\n",
    "        body={'instances': record}\n",
    "    ).execute()\n",
    "\n",
    "    if 'error' in response:\n",
    "        raise RuntimeError(response['error'])\n",
    "\n",
    "    return response['predictions']"
   ]
  },
  {
   "cell_type": "code",
   "execution_count": 31,
   "metadata": {},
   "outputs": [],
   "source": [
    "def refine(x):\n",
    "    x = x.split(',')\n",
    "    x[2] = str(int(float(x[2])))\n",
    "    x[3] = str(int(float(x[3])))\n",
    "    return ','.join(x)\n",
    "\n",
    "def transform_row(x):\n",
    "    x = x.astype(str)\n",
    "    x[1] = le.inverse_transform([int(float(x[1]))])[0]\n",
    "    tmp = ','.join(list(x))\n",
    "    refiend_row = refine(tmp)\n",
    "    return refiend_row"
   ]
  },
  {
   "cell_type": "code",
   "execution_count": 32,
   "metadata": {},
   "outputs": [],
   "source": [
    "def lime_predict(rows):\n",
    "    if len(rows.shape) > 1:\n",
    "        predictions = []\n",
    "        for row in rows:\n",
    "            prediction = predict('energy-forecasting',\n",
    "                                 'energyforecaster',\n",
    "                                 transform_row(row), 'new_energy'\n",
    "                                 )[0]['predictions']\n",
    "            predictions.extend(prediction)\n",
    "    else:\n",
    "        predictions = predict('energy-forecasting', 'energyforecaster',\n",
    "                              transform_row(rows), 'new_energy'\n",
    "                              )[0]['predictions']\n",
    "    return np.array(predictions)"
   ]
  },
  {
   "cell_type": "code",
   "execution_count": 35,
   "metadata": {},
   "outputs": [
    {
     "name": "stdout",
     "output_type": "stream",
     "text": [
      "Intercept 0.497121336971721\n",
      "Prediction_local [0.52496435]\n",
      "Right: 0.531932532787323\n"
     ]
    }
   ],
   "source": [
    "i = 105\n",
    "exp = explainer.explain_instance(test[i], lime_predict, num_features=5, num_samples=10)"
   ]
  },
  {
   "cell_type": "code",
   "execution_count": 38,
   "metadata": {},
   "outputs": [],
   "source": [
    "exp.show_in_notebook(show_table=True)"
   ]
  },
  {
   "cell_type": "code",
   "execution_count": null,
   "metadata": {},
   "outputs": [],
   "source": []
  }
 ],
 "metadata": {
  "kernelspec": {
   "display_name": "Python 2",
   "language": "python",
   "name": "python2"
  },
  "language_info": {
   "codemirror_mode": {
    "name": "ipython",
    "version": 2
   },
   "file_extension": ".py",
   "mimetype": "text/x-python",
   "name": "python",
   "nbconvert_exporter": "python",
   "pygments_lexer": "ipython2",
   "version": "2.7.15"
  }
 },
 "nbformat": 4,
 "nbformat_minor": 2
}
