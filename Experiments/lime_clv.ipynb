{
 "cells": [
  {
   "cell_type": "code",
   "execution_count": 1,
   "metadata": {},
   "outputs": [],
   "source": [
    "import lime\n",
    "import sklearn\n",
    "import warnings\n",
    "import itertools\n",
    "import numpy as np\n",
    "import pandas as pd\n",
    "import lime.lime_tabular\n",
    "import googleapiclient.discovery\n",
    "\n",
    "from google.cloud import storage"
   ]
  },
  {
   "cell_type": "code",
   "execution_count": 2,
   "metadata": {},
   "outputs": [],
   "source": [
    "warnings.filterwarnings(action='ignore', category=DeprecationWarning)"
   ]
  },
  {
   "cell_type": "code",
   "execution_count": 3,
   "metadata": {},
   "outputs": [],
   "source": [
    "storage_client = storage.Client(project='ml-clv')\n",
    "bucket = storage_client.get_bucket('ml-clv_composer_final')\n",
    "blob = bucket.blob('data/train.csv')\n",
    "train =  blob.download_as_string(storage_client).split('\\n')\n",
    "blob = bucket.blob('data/eval.csv')\n",
    "test =  blob.download_as_string(storage_client).split('\\n')"
   ]
  },
  {
   "cell_type": "code",
   "execution_count": 4,
   "metadata": {},
   "outputs": [],
   "source": [
    "feature_names = ['customer_id', 'monetary_dnn', 'recency', 'frequency_dnn', 'avg_basket_value', 'avg_basket_size',\n",
    "                 'T', 'time_between', 'cnt_returns', 'has_returned']\n",
    "\n",
    "headers = ['customer_id', 'monetary_dnn', 'monetary_btyd', 'frequency_dnn',\n",
    "           'frequency_btyd', 'recency', 'T', 'time_between',\n",
    "           'avg_basket_value', 'avg_basket_size', 'cnt_returns',\n",
    "           'has_returned', 'frequency_btyd_clipped', 'monetary_btyd_clipped',\n",
    "           'target_monetary_clipped', 'target_monetary']\n",
    "\n",
    "categorical_features = [8]"
   ]
  },
  {
   "cell_type": "code",
   "execution_count": 5,
   "metadata": {},
   "outputs": [],
   "source": [
    "def convert_to_matrix(data):\n",
    "    new_lst = []\n",
    "    for string in data[1:]:\n",
    "        new_lst.append(string.split(','))\n",
    "\n",
    "    df = pd.DataFrame.from_records(new_lst)\n",
    "    df.columns = headers\n",
    "    df = df.dropna()\n",
    "    df = df.loc[:,feature_names]\n",
    "    return df.values.astype(float)"
   ]
  },
  {
   "cell_type": "code",
   "execution_count": 6,
   "metadata": {},
   "outputs": [],
   "source": [
    "train = convert_to_matrix(train)\n",
    "test = convert_to_matrix(test)"
   ]
  },
  {
   "cell_type": "code",
   "execution_count": 7,
   "metadata": {},
   "outputs": [],
   "source": [
    "explainer = lime.lime_tabular.LimeTabularExplainer(\n",
    "    train,\n",
    "    feature_names=feature_names,\n",
    "    class_names=['target_monetary'],\n",
    "    categorical_features=categorical_features,\n",
    "    verbose=True,\n",
    "    mode='regression',\n",
    "    )"
   ]
  },
  {
   "cell_type": "code",
   "execution_count": 8,
   "metadata": {},
   "outputs": [],
   "source": [
    "def predict(project, model, record, version=None):\n",
    "    service = googleapiclient.discovery.build('ml', 'v1')\n",
    "    name = 'projects/{}/models/{}'.format(project, model)\n",
    "\n",
    "    if version is not None:\n",
    "        name += '/versions/{}'.format(version)\n",
    "\n",
    "    response = service.projects().predict(\n",
    "        name=name,\n",
    "        body={'instances': record}\n",
    "    ).execute()\n",
    "\n",
    "    if 'error' in response:\n",
    "        raise RuntimeError(response['error'])\n",
    "\n",
    "    return response['predictions']"
   ]
  },
  {
   "cell_type": "code",
   "execution_count": 13,
   "metadata": {},
   "outputs": [],
   "source": [
    "def transform_row(x):\n",
    "    x = x.astype(str)\n",
    "    x[2] = str(int(float(x[2])))\n",
    "    x[3] = str(int(float(x[3])))\n",
    "    x[4] = str(int(float(x[4])))\n",
    "    x[8] = str(int(float(x[8])))\n",
    "    x[9] = str(int(float(x[9])))\n",
    "    return ','.join(list(x))"
   ]
  },
  {
   "cell_type": "code",
   "execution_count": 20,
   "metadata": {},
   "outputs": [],
   "source": [
    "def lime_predict(rows):\n",
    "    if len(rows.shape) > 1:\n",
    "        predictions = []\n",
    "        for row in rows:\n",
    "            prediction = predict('ml-clv',\n",
    "                                 'dnn_airflow',\n",
    "                                 transform_row(row), 'v1'\n",
    "                                 )[0]['predicted_monetary']\n",
    "            predictions.append(prediction)\n",
    "    else:\n",
    "        predictions = predict('ml-clv',\n",
    "                              'dnn_airflow',\n",
    "                              transform_row(row), 'v1'\n",
    "                              )[0]['predicted_monetary']\n",
    "    return np.array(predictions)"
   ]
  },
  {
   "cell_type": "code",
   "execution_count": 23,
   "metadata": {},
   "outputs": [
    {
     "name": "stdout",
     "output_type": "stream",
     "text": [
      "Intercept 6628.593982662236\n",
      "Prediction_local [119.86616778]\n",
      "Right: -935.5283203125\n"
     ]
    }
   ],
   "source": [
    "i = 100\n",
    "exp = explainer.explain_instance(test[i], lime_predict, num_features=5, num_samples=10)"
   ]
  },
  {
   "cell_type": "code",
   "execution_count": 27,
   "metadata": {},
   "outputs": [],
   "source": [
    "exp.show_in_notebook(show_table=True)"
   ]
  },
  {
   "cell_type": "code",
   "execution_count": 26,
   "metadata": {},
   "outputs": [
    {
     "data": {
      "text/plain": [
       "[('monetary_dnn <= 1172.59', -4307.906646344201),\n",
       " ('recency <= 292.00', -1981.0449000908645),\n",
       " ('avg_basket_size <= 9.16', -1955.5095914510594),\n",
       " ('2435715214.00 < customer_id <= 3894666163.00', 1519.27976649363),\n",
       " ('306.00 < T <= 331.00', 216.45355650979798)]"
      ]
     },
     "execution_count": 26,
     "metadata": {},
     "output_type": "execute_result"
    }
   ],
   "source": [
    "exp.as_list()"
   ]
  },
  {
   "cell_type": "code",
   "execution_count": null,
   "metadata": {},
   "outputs": [],
   "source": []
  }
 ],
 "metadata": {
  "kernelspec": {
   "display_name": "Python 2",
   "language": "python",
   "name": "python2"
  },
  "language_info": {
   "codemirror_mode": {
    "name": "ipython",
    "version": 2
   },
   "file_extension": ".py",
   "mimetype": "text/x-python",
   "name": "python",
   "nbconvert_exporter": "python",
   "pygments_lexer": "ipython2",
   "version": "2.7.15"
  }
 },
 "nbformat": 4,
 "nbformat_minor": 2
}
